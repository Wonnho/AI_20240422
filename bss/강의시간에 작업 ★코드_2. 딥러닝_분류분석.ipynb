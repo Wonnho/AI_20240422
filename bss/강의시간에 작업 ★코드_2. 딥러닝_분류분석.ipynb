{
 "cells": [
  {
   "cell_type": "markdown",
   "id": "65cdfd62",
   "metadata": {
    "id": "65cdfd62"
   },
   "source": [
    "## [1] sigmoid 이항분류  + 오차함수\n",
    "- 03.활성화함수_시그모이드.pptx , 1~3 페이지\n",
    "- 이항분류는 output레이블이 2개인 결과를 의미함.\n",
    "- 이항분류는 y값의 상태에 따라서 활성화함수를 선택해야함\n",
    "    - 0또는1의 1개의 bit(시그모이드함수)\n",
    "    - 또는 [1,0], [0,1]의 2개의 bit(소프트맥스함수)"
   ]
  },
  {
   "cell_type": "markdown",
   "id": "68a9264c",
   "metadata": {
    "id": "68a9264c"
   },
   "source": [
    "### [1-1] outputLayer\n",
    "-"
   ]
  },
  {
   "cell_type": "code",
   "execution_count": null,
   "id": "791b8638",
   "metadata": {
    "id": "791b8638",
    "outputId": "f6640c38-7d97-4370-a015-58e3898ec84e"
   },
   "outputs": [
    {
     "data": {
      "text/html": [
       "<div>\n",
       "<style scoped>\n",
       "    .dataframe tbody tr th:only-of-type {\n",
       "        vertical-align: middle;\n",
       "    }\n",
       "\n",
       "    .dataframe tbody tr th {\n",
       "        vertical-align: top;\n",
       "    }\n",
       "\n",
       "    .dataframe thead th {\n",
       "        text-align: right;\n",
       "    }\n",
       "</style>\n",
       "<table border=\"1\" class=\"dataframe\">\n",
       "  <thead>\n",
       "    <tr style=\"text-align: right;\">\n",
       "      <th></th>\n",
       "      <th>방갯수</th>\n",
       "      <th>건축년도</th>\n",
       "      <th>재건축여부</th>\n",
       "    </tr>\n",
       "  </thead>\n",
       "  <tbody>\n",
       "    <tr>\n",
       "      <th>0</th>\n",
       "      <td>1</td>\n",
       "      <td>1</td>\n",
       "      <td>1</td>\n",
       "    </tr>\n",
       "    <tr>\n",
       "      <th>1</th>\n",
       "      <td>2</td>\n",
       "      <td>0</td>\n",
       "      <td>0</td>\n",
       "    </tr>\n",
       "    <tr>\n",
       "      <th>2</th>\n",
       "      <td>1</td>\n",
       "      <td>0</td>\n",
       "      <td>0</td>\n",
       "    </tr>\n",
       "    <tr>\n",
       "      <th>3</th>\n",
       "      <td>1</td>\n",
       "      <td>1</td>\n",
       "      <td>1</td>\n",
       "    </tr>\n",
       "    <tr>\n",
       "      <th>4</th>\n",
       "      <td>2</td>\n",
       "      <td>0</td>\n",
       "      <td>1</td>\n",
       "    </tr>\n",
       "    <tr>\n",
       "      <th>5</th>\n",
       "      <td>1</td>\n",
       "      <td>0</td>\n",
       "      <td>1</td>\n",
       "    </tr>\n",
       "    <tr>\n",
       "      <th>6</th>\n",
       "      <td>3</td>\n",
       "      <td>1</td>\n",
       "      <td>1</td>\n",
       "    </tr>\n",
       "    <tr>\n",
       "      <th>7</th>\n",
       "      <td>4</td>\n",
       "      <td>1</td>\n",
       "      <td>0</td>\n",
       "    </tr>\n",
       "  </tbody>\n",
       "</table>\n",
       "</div>"
      ],
      "text/plain": [
       "   방갯수  건축년도  재건축여부\n",
       "0    1     1      1\n",
       "1    2     0      0\n",
       "2    1     0      0\n",
       "3    1     1      1\n",
       "4    2     0      1\n",
       "5    1     0      1\n",
       "6    3     1      1\n",
       "7    4     1      0"
      ]
     },
     "execution_count": 95,
     "metadata": {},
     "output_type": "execute_result"
    }
   ],
   "source": [
    "# 03.활성화함수_시그모이드.pptx , 4페이지\n",
    "import pandas as  pd\n",
    "roomCnt=[1,2,1,1,2,1,3,4]  # 방갯수\n",
    "year=[2001,1997,1998,2020,1994,1999,2000,2010] #건축년도\n",
    "재건축여부=[1,0,0,1,1,1,1,0]\n",
    "\n",
    "df=pd.DataFrame({'방갯수':roomCnt,'건축년도':year,'재건축여부':재건축여부})\n",
    "\n",
    "df['건축년도']=df['건축년도']/2000      #스케일링,표준화,정규화\n",
    "df['건축년도']=df['건축년도'].astype('int32')    # 정수값으로 변환\n",
    "\n",
    "x=df[['방갯수','건축년도']].values\n",
    "y=df['재건축여부'].values\n",
    "df\n"
   ]
  },
  {
   "cell_type": "code",
   "execution_count": null,
   "id": "922b9220",
   "metadata": {
    "id": "922b9220",
    "outputId": "d53f07cc-cb8c-49cc-c6bd-1197da731534"
   },
   "outputs": [
    {
     "name": "stdout",
     "output_type": "stream",
     "text": [
      "1/1 [==============================] - 0s 215ms/step - loss: 0.7385 - accuracy: 0.2500\n",
      "<keras.callbacks.History object at 0x000001CCDB4645E0>\n",
      "Model: \"sequential_18\"\n",
      "_________________________________________________________________\n",
      "Layer (type)                 Output Shape              Param #   \n",
      "=================================================================\n",
      "dense_50 (Dense)             (None, 1)                 3         \n",
      "=================================================================\n",
      "Total params: 3\n",
      "Trainable params: 3\n",
      "Non-trainable params: 0\n",
      "_________________________________________________________________\n"
     ]
    },
    {
     "data": {
      "text/plain": [
       "array([[0.43392918],\n",
       "       [0.55593234],\n",
       "       [0.5284482 ],\n",
       "       [0.43392918],\n",
       "       [0.55593234],\n",
       "       [0.5284482 ],\n",
       "       [0.48891923],\n",
       "       [0.5165997 ]], dtype=float32)"
      ]
     },
     "execution_count": 97,
     "metadata": {},
     "output_type": "execute_result"
    }
   ],
   "source": [
    "import tensorflow as tf\n",
    "from tensorflow import keras\n",
    "from tensorflow.keras import layers\n",
    "tf.random.set_seed(1234)  # w값 바꾸지 않기 위해 사용함\n",
    "\n",
    "input_layer = tf.keras.layers.InputLayer(input_shape=(2,))  #x변수가 2개임으로\n",
    "output_layer= tf.keras.layers.Dense(units=1,activation='sigmoid') #y값은 0 또는 1임으로\n",
    "\n",
    "model = keras.Sequential([input_layer,output_layer])\n",
    "\n",
    "model.compile(loss='binary_crossentropy',\n",
    "              metrics=['accuracy'])\n",
    "print(model.fit(x, y))\n",
    "\n",
    "model.summary()  # 구축된 레이처층을 보여줌\n",
    "\n",
    "model.predict(x) #0,1 사이값만 출력됨  [5페이지 출력물과 같음]\n"
   ]
  },
  {
   "cell_type": "code",
   "execution_count": null,
   "id": "d8c67152",
   "metadata": {
    "id": "d8c67152",
    "outputId": "c56d9e6a-7814-4840-9963-1036b5395330"
   },
   "outputs": [
    {
     "name": "stdout",
     "output_type": "stream",
     "text": [
      "1/1 [==============================] - 0s 226ms/step - loss: 0.7385 - accuracy: 0.3750\n"
     ]
    },
    {
     "data": {
      "text/plain": [
       "<tf.Tensor: shape=(8, 1), dtype=float32, numpy=\n",
       "array([[0.43392918],\n",
       "       [0.55593234],\n",
       "       [0.5284482 ],\n",
       "       [0.43392918],\n",
       "       [0.55593234],\n",
       "       [0.5284482 ],\n",
       "       [0.48891923],\n",
       "       [0.5165997 ]], dtype=float32)>"
      ]
     },
     "execution_count": 106,
     "metadata": {},
     "output_type": "execute_result"
    }
   ],
   "source": [
    "## (참고) 제공자료에 없음\n",
    "import tensorflow as tf\n",
    "from tensorflow import keras\n",
    "from tensorflow.keras import layers\n",
    "tf.random.set_seed(1234)  # w값 바꾸지 않기 위해 사용함\n",
    "\n",
    "input_layer = tf.keras.layers.InputLayer(input_shape=(2,))  #x변수가 2개임으로\n",
    "output_layer= tf.keras.layers.Dense(units=1)   ## 활성화함수를 작성하지 않고\n",
    "\n",
    "model = keras.Sequential([input_layer,output_layer])\n",
    "\n",
    "model.compile(loss=tf.keras.losses.BinaryCrossentropy(from_logits=True),  # 로스함수에 from_logits=True로 계산하게함\n",
    "              metrics=['accuracy'])\n",
    "model.fit(x, y)\n",
    "tf.nn.sigmoid(model.predict(x))"
   ]
  },
  {
   "cell_type": "code",
   "execution_count": null,
   "id": "f3459892",
   "metadata": {
    "id": "f3459892",
    "outputId": "22360917-2a99-4666-f797-daf6b5319112"
   },
   "outputs": [
    {
     "data": {
      "text/plain": [
       "array([[0],\n",
       "       [1],\n",
       "       [1],\n",
       "       [0],\n",
       "       [1],\n",
       "       [1],\n",
       "       [0],\n",
       "       [1]])"
      ]
     },
     "execution_count": 111,
     "metadata": {},
     "output_type": "execute_result"
    }
   ],
   "source": [
    "# 임계값을 기준으로 하여서 0과 1값으로 변경하여야함.\n",
    "# from sklearn.preprocessing import Binarizer  를 이용하여 임계값을 조정해야함. 3일차 강의 진행\n",
    "result=tf.nn.sigmoid(model.predict(x))\n",
    "\n",
    "im=0.5  #임계값은 변경하면서 확인해야함. (머신러닝 성능평가지표, 자료제공 안되어 있음)\n",
    "np.where(result < im, 0, 1)"
   ]
  },
  {
   "cell_type": "markdown",
   "id": "7caf1fa7",
   "metadata": {
    "id": "7caf1fa7"
   },
   "source": [
    "### [1-2] 새로운 데이터로 예측하기"
   ]
  },
  {
   "cell_type": "code",
   "execution_count": null,
   "id": "5ea4bd7e",
   "metadata": {
    "id": "5ea4bd7e",
    "outputId": "8a4cf7c7-9628-4d78-d8a5-7e455ec929df"
   },
   "outputs": [
    {
     "data": {
      "text/plain": [
       "(<tf.Tensor: shape=(1, 1), dtype=float32, numpy=array([[0.23440695]], dtype=float32)>,\n",
       " array([[0]]))"
      ]
     },
     "execution_count": 118,
     "metadata": {},
     "output_type": "execute_result"
    }
   ],
   "source": [
    "newData=[[3,4]]\n",
    "result=tf.nn.sigmoid(model.predict(newData))\n",
    "result,np.where(result < 0.5, 0, 1)"
   ]
  },
  {
   "cell_type": "markdown",
   "id": "988b1b7a",
   "metadata": {
    "id": "988b1b7a"
   },
   "source": [
    "## [2] softmax 이항,다항 분류  + 오차함수\n",
    "![image.png](attachment:image.png)"
   ]
  },
  {
   "cell_type": "code",
   "execution_count": null,
   "id": "2a3e2a10",
   "metadata": {
    "id": "2a3e2a10",
    "outputId": "d0d71b7c-91f2-4081-9f46-2e9690b2f0f8"
   },
   "outputs": [
    {
     "data": {
      "text/html": [
       "<div>\n",
       "<style scoped>\n",
       "    .dataframe tbody tr th:only-of-type {\n",
       "        vertical-align: middle;\n",
       "    }\n",
       "\n",
       "    .dataframe tbody tr th {\n",
       "        vertical-align: top;\n",
       "    }\n",
       "\n",
       "    .dataframe thead th {\n",
       "        text-align: right;\n",
       "    }\n",
       "</style>\n",
       "<table border=\"1\" class=\"dataframe\">\n",
       "  <thead>\n",
       "    <tr style=\"text-align: right;\">\n",
       "      <th></th>\n",
       "      <th>방갯수</th>\n",
       "      <th>건축년도</th>\n",
       "      <th>재건축여부등급</th>\n",
       "    </tr>\n",
       "  </thead>\n",
       "  <tbody>\n",
       "    <tr>\n",
       "      <th>0</th>\n",
       "      <td>1</td>\n",
       "      <td>1</td>\n",
       "      <td>A</td>\n",
       "    </tr>\n",
       "    <tr>\n",
       "      <th>1</th>\n",
       "      <td>2</td>\n",
       "      <td>0</td>\n",
       "      <td>B</td>\n",
       "    </tr>\n",
       "    <tr>\n",
       "      <th>2</th>\n",
       "      <td>1</td>\n",
       "      <td>0</td>\n",
       "      <td>A</td>\n",
       "    </tr>\n",
       "    <tr>\n",
       "      <th>3</th>\n",
       "      <td>1</td>\n",
       "      <td>1</td>\n",
       "      <td>A</td>\n",
       "    </tr>\n",
       "    <tr>\n",
       "      <th>4</th>\n",
       "      <td>2</td>\n",
       "      <td>0</td>\n",
       "      <td>E</td>\n",
       "    </tr>\n",
       "    <tr>\n",
       "      <th>5</th>\n",
       "      <td>1</td>\n",
       "      <td>0</td>\n",
       "      <td>A</td>\n",
       "    </tr>\n",
       "    <tr>\n",
       "      <th>6</th>\n",
       "      <td>3</td>\n",
       "      <td>1</td>\n",
       "      <td>A</td>\n",
       "    </tr>\n",
       "    <tr>\n",
       "      <th>7</th>\n",
       "      <td>4</td>\n",
       "      <td>1</td>\n",
       "      <td>B</td>\n",
       "    </tr>\n",
       "  </tbody>\n",
       "</table>\n",
       "</div>"
      ],
      "text/plain": [
       "   방갯수  건축년도 재건축여부등급\n",
       "0    1     1       A\n",
       "1    2     0       B\n",
       "2    1     0       A\n",
       "3    1     1       A\n",
       "4    2     0       E\n",
       "5    1     0       A\n",
       "6    3     1       A\n",
       "7    4     1       B"
      ]
     },
     "execution_count": 207,
     "metadata": {},
     "output_type": "execute_result"
    }
   ],
   "source": [
    "### 04.활성화함수_소프트맥스.pptx 의 5페이지\n",
    "\n",
    "import pandas as  pd\n",
    "roomCnt=[1,2,1,1,2,1,3,4]  # 방갯수\n",
    "year=[2001,1997,1998,2020,1994,1999,2000,2010] #건축년도\n",
    "재건축여부등급=['A','B','A','A','E','A','A','B']\n",
    "\n",
    "df=pd.DataFrame({'방갯수':roomCnt,'건축년도':year,'재건축여부등급':재건축여부등급})\n",
    "\n",
    "df['건축년도']=df['건축년도']/2000      #스케일링,표준화,정규화\n",
    "df['건축년도']=df['건축년도'].astype('int32')    # 정수값으로 변환\n",
    "\n",
    "x=df[['방갯수','건축년도']].values\n",
    "y=df['재건축여부등급'].values\n",
    "df\n"
   ]
  },
  {
   "cell_type": "code",
   "execution_count": null,
   "id": "11f51d1d",
   "metadata": {
    "id": "11f51d1d",
    "outputId": "8b28cf51-13c3-4711-d4b3-fbae42323297"
   },
   "outputs": [
    {
     "data": {
      "text/plain": [
       "A    5\n",
       "B    2\n",
       "E    1\n",
       "Name: 재건축여부등급, dtype: int64"
      ]
     },
     "execution_count": 141,
     "metadata": {},
     "output_type": "execute_result"
    }
   ],
   "source": [
    "df['재건축여부등급'].value_counts()  # 3개의 y값을 가짐"
   ]
  },
  {
   "cell_type": "code",
   "execution_count": null,
   "id": "c23babe1",
   "metadata": {
    "id": "c23babe1",
    "outputId": "e6d72068-94b9-4590-9292-7d66a4cf63dc"
   },
   "outputs": [
    {
     "data": {
      "text/plain": [
       "array([0, 1, 0, 0, 2, 0, 0, 1])"
      ]
     },
     "execution_count": 142,
     "metadata": {},
     "output_type": "execute_result"
    }
   ],
   "source": [
    "#\n",
    "from sklearn.preprocessing import LabelEncoder\n",
    "e = LabelEncoder()\n",
    "e.fit(y)\n",
    "y=e.transform(y)\n",
    "y\n"
   ]
  },
  {
   "cell_type": "code",
   "execution_count": null,
   "id": "dcdd24b5",
   "metadata": {
    "id": "dcdd24b5",
    "outputId": "800d8439-7ce8-49a3-9900-06566ecd706b"
   },
   "outputs": [
    {
     "name": "stdout",
     "output_type": "stream",
     "text": [
      "1/1 [==============================] - 0s 161ms/step - loss: 1.6881 - accuracy: 0.1250\n"
     ]
    },
    {
     "data": {
      "text/plain": [
       "<keras.callbacks.History at 0x1cce291c6a0>"
      ]
     },
     "execution_count": 143,
     "metadata": {},
     "output_type": "execute_result"
    }
   ],
   "source": [
    "import tensorflow as tf\n",
    "from tensorflow import keras\n",
    "from tensorflow.keras import layers\n",
    "tf.random.set_seed(1234)  # w값 바꾸지 않기 위해 사용함\n",
    "\n",
    "input_layer = tf.keras.layers.InputLayer(input_shape=(2,))  #x변수가 2개임으로\n",
    "output_layer= tf.keras.layers.Dense(units=3)   ## 활성화함수를 작성하지 않고 , y값이 원핫인코딩도 안되어 있다면\n",
    "\n",
    "model = keras.Sequential([input_layer,output_layer])\n",
    "\n",
    "model.compile(loss=tf.keras.losses.SparseCategoricalCrossentropy(from_logits=True),  #로스는 이렇게 작성해야함\n",
    "              metrics=['accuracy'])\n",
    "\n",
    "model.fit(x, y)\n"
   ]
  },
  {
   "cell_type": "code",
   "execution_count": null,
   "id": "0ee23841",
   "metadata": {
    "id": "0ee23841",
    "outputId": "22db9379-22c4-40c5-a89e-cbe78597e17f"
   },
   "outputs": [
    {
     "data": {
      "text/plain": [
       "<tf.Tensor: shape=(8, 3), dtype=float32, numpy=\n",
       "array([[0.15067907, 0.1550617 , 0.6942592 ],\n",
       "       [0.37658647, 0.17613597, 0.44727755],\n",
       "       [0.3609742 , 0.24686973, 0.3921561 ],\n",
       "       [0.15067907, 0.1550617 , 0.6942592 ],\n",
       "       [0.37658647, 0.17613597, 0.44727755],\n",
       "       [0.3609742 , 0.24686973, 0.3921561 ],\n",
       "       [0.14309257, 0.06887349, 0.7880339 ],\n",
       "       [0.13605408, 0.04478559, 0.81916034]], dtype=float32)>"
      ]
     },
     "execution_count": 146,
     "metadata": {},
     "output_type": "execute_result"
    }
   ],
   "source": [
    "result=tf.nn.softmax(model.predict(x))\n",
    "result"
   ]
  },
  {
   "cell_type": "markdown",
   "id": "d21f904b-a7e2-4bd5-a765-848a1d158743",
   "metadata": {},
   "source": [
    "# Day. 2024-04-23 Tensorflow CNN\n",
    "- https://www.tensorflow.org/tutorials/images/cnn?hl=ko"
   ]
  },
  {
   "cell_type": "code",
   "execution_count": 1,
   "id": "17ebc76b-b97b-411f-b77c-aeedf10fdc5d",
   "metadata": {},
   "outputs": [
    {
     "name": "stderr",
     "output_type": "stream",
     "text": [
      "2024-04-23 13:29:10.479963: I tensorflow/core/platform/cpu_feature_guard.cc:182] This TensorFlow binary is optimized to use available CPU instructions in performance-critical operations.\n",
      "To enable the following instructions: AVX2 FMA, in other operations, rebuild TensorFlow with the appropriate compiler flags.\n"
     ]
    }
   ],
   "source": [
    "import tensorflow as tf \n",
    "from tensorflow.keras import datasets, layers, models\n",
    "import matplotlib.pyplot as plt\n"
   ]
  },
  {
   "cell_type": "code",
   "execution_count": 2,
   "id": "94acb48e-198b-4ea5-b226-cc4dadebf975",
   "metadata": {},
   "outputs": [
    {
     "name": "stdout",
     "output_type": "stream",
     "text": [
      "Downloading data from https://www.cs.toronto.edu/~kriz/cifar-10-python.tar.gz\n",
      "170498071/170498071 [==============================] - 12s 0us/step\n"
     ]
    }
   ],
   "source": [
    "# 10\n",
    "(train_images, train_labels), (test_images, test_labels) = datasets.cifar10.load_data()\n",
    "# Normalize pixel values to be between 0 and 1\n",
    "train_images, test_images = train_images / 255.0, test_images / 255.0\n"
   ]
  },
  {
   "cell_type": "code",
   "execution_count": 4,
   "id": "2b72c4e3-fea5-4b30-9248-8dc79555273b",
   "metadata": {},
   "outputs": [
    {
     "data": {
      "text/plain": [
       "((50000, 32, 32, 3), (50000, 1))"
      ]
     },
     "execution_count": 4,
     "metadata": {},
     "output_type": "execute_result"
    }
   ],
   "source": [
    "#########################\n",
    "## r,b,g\n",
    "#########################\n",
    "train_images.shape, train_labels.shape"
   ]
  },
  {
   "cell_type": "code",
   "execution_count": 12,
   "id": "8a5eeeee-2432-488f-8698-82af3075db1f",
   "metadata": {},
   "outputs": [
    {
     "data": {
      "text/plain": [
       "(array([0, 1, 2, 3, 4, 5, 6, 7, 8, 9], dtype=uint8),\n",
       " array([5000, 5000, 5000, 5000, 5000, 5000, 5000, 5000, 5000, 5000]))"
      ]
     },
     "execution_count": 12,
     "metadata": {},
     "output_type": "execute_result"
    }
   ],
   "source": [
    "#########################\n",
    "## count\n",
    "#########################\n",
    "import numpy as np\n",
    "np.unique(train_labels, return_counts=True)"
   ]
  },
  {
   "cell_type": "code",
   "execution_count": 13,
   "id": "8fd15874-2924-42a5-b4aa-194027de1e27",
   "metadata": {},
   "outputs": [
    {
     "name": "stdout",
     "output_type": "stream",
     "text": [
      "(10000, 32, 32, 3) (10000, 1)\n"
     ]
    },
    {
     "data": {
      "text/plain": [
       "(array([0, 1, 2, 3, 4, 5, 6, 7, 8, 9], dtype=uint8),\n",
       " array([1000, 1000, 1000, 1000, 1000, 1000, 1000, 1000, 1000, 1000]))"
      ]
     },
     "execution_count": 13,
     "metadata": {},
     "output_type": "execute_result"
    }
   ],
   "source": [
    "#####################\n",
    "###\n",
    "\n",
    "print(test_images.shape, test_labels.shape)\n",
    "np.unique(test_labels, return_counts=True)\n"
   ]
  },
  {
   "cell_type": "code",
   "execution_count": 17,
   "id": "70a2a6e0-128b-4b64-bc4f-e54e6c597d9e",
   "metadata": {},
   "outputs": [
    {
     "data": {
      "text/plain": [
       "(array([[6],\n",
       "        [9],\n",
       "        [9],\n",
       "        [4],\n",
       "        [1]], dtype=uint8),\n",
       " <matplotlib.image.AxesImage at 0x7f4417a91af0>)"
      ]
     },
     "execution_count": 17,
     "metadata": {},
     "output_type": "execute_result"
    },
    {
     "data": {
      "image/png": "[encoded data removed]",
      "text/plain": [
       "<Figure size 640x480 with 1 Axes>"
      ]
     },
     "metadata": {},
     "output_type": "display_data"
    }
   ],
   "source": [
    "train_labels[:5], plt.imshow(train_images[0])"
   ]
  },
  {
   "cell_type": "code",
   "execution_count": 14,
   "id": "9ac9ec66-6491-4343-a98f-c44f41da4296",
   "metadata": {},
   "outputs": [],
   "source": [
    "#\n",
    "class_names = ['airplane', 'automobile', 'bird', 'cat', 'deer',\n",
    "               'dog', 'frog', 'horse', 'ship', 'truck']\n"
   ]
  },
  {
   "cell_type": "code",
   "execution_count": 33,
   "id": "19ad3479-cfb9-4037-8a71-836809372d56",
   "metadata": {},
   "outputs": [],
   "source": [
    "model = models.Sequential()\n",
    "model.add(layers.Conv2D(32, (3, 3), padding='same',activation='relu', input_shape=(32, 32, 3)))   #input 3, output 32\n",
    "model.add(layers.MaxPooling2D((2, 2)))\n",
    "model.add(layers.Conv2D(64, (3, 3), padding='same',activation='relu'))   # input 32, ouput 64\n",
    "model.add(layers.MaxPooling2D((2, 2)))\n",
    "model.add(layers.Conv2D(64, (3, 3), padding='same',activation='relu'))  # input 64, output 64\n",
    "model.add(layers.Flatten())\n",
    "model.add(layers.Dense(64, activation='relu'))      \n",
    "model.add(layers.Dense(10))   #  마지막 출력층\n",
    "\n",
    "#model.summary()\n"
   ]
  },
  {
   "cell_type": "code",
   "execution_count": 38,
   "id": "71c0211c-7d66-48bf-95c6-721f9e99b6d6",
   "metadata": {},
   "outputs": [
    {
     "data": {
      "text/plain": [
       "[<tf.Variable 'conv2d_33/kernel:0' shape=(3, 3, 3, 32) dtype=float32, numpy=\n",
       " array([[[[-0.07752997,  0.07340796,  0.04976403, -0.17388153,\n",
       "           -0.16551134,  0.11486968, -0.09979056,  0.0685486 ,\n",
       "            0.11384555, -0.14051083, -0.05117875, -0.10333596,\n",
       "            0.0239919 ,  0.01345515, -0.10077155,  0.03168599,\n",
       "           -0.12927577,  0.04603656, -0.04038369,  0.13754866,\n",
       "           -0.0953715 ,  0.02773508,  0.02588947,  0.26521146,\n",
       "           -0.16037709,  0.00267825,  0.05778358,  0.16944753,\n",
       "           -0.12731816, -0.14610308,  0.11399485,  0.17866042],\n",
       "          [-0.05883137, -0.08122979, -0.1325881 , -0.13727675,\n",
       "            0.14456643,  0.0760659 ,  0.0305682 ,  0.01307019,\n",
       "            0.10966599, -0.20933709,  0.01074311,  0.00683674,\n",
       "            0.04384007,  0.01922174,  0.01449373, -0.07732606,\n",
       "           -0.05102298,  0.13641295, -0.02498823,  0.17531703,\n",
       "           -0.16177666,  0.17907861,  0.03224174,  0.26463982,\n",
       "            0.04526544,  0.11033952, -0.06859933,  0.0221223 ,\n",
       "           -0.07336212, -0.00574454,  0.0160413 ,  0.15056452],\n",
       "          [ 0.07193886,  0.10736287,  0.06539013,  0.02166449,\n",
       "           -0.15170513,  0.19652139,  0.15353471,  0.05689256,\n",
       "            0.04237704,  0.04091372,  0.07994609,  0.07038119,\n",
       "           -0.10644921,  0.08414096,  0.03744235,  0.12343058,\n",
       "            0.02652048, -0.01486414, -0.01965134,  0.12201415,\n",
       "           -0.15329936,  0.03678627,  0.08651195,  0.11640406,\n",
       "           -0.07707878, -0.00893782,  0.05573212,  0.12987733,\n",
       "            0.03202732, -0.00075803, -0.13503554, -0.23584743]],\n",
       " \n",
       "         [[ 0.12317589, -0.03405648, -0.1802271 ,  0.06024946,\n",
       "            0.08770194, -0.06959283, -0.04192741,  0.02304327,\n",
       "            0.12894492,  0.07500977, -0.09287507,  0.08140142,\n",
       "            0.03523564,  0.12665176, -0.0468677 , -0.04189523,\n",
       "            0.0172789 , -0.14280185, -0.09024043, -0.1723536 ,\n",
       "           -0.19343668,  0.06862912,  0.15549602,  0.11735716,\n",
       "            0.17845686,  0.11746635,  0.11042529,  0.0367512 ,\n",
       "            0.07957472, -0.05194634,  0.06374298, -0.00686012],\n",
       "          [ 0.09515785, -0.15671189, -0.13270332,  0.18054189,\n",
       "            0.16465738, -0.04792324,  0.11534317, -0.03526846,\n",
       "            0.09629644, -0.19184145, -0.09595554,  0.12399557,\n",
       "            0.17167985,  0.05378103, -0.10230894,  0.04603302,\n",
       "           -0.11096343, -0.19004673, -0.09322624, -0.20725289,\n",
       "           -0.2047092 ,  0.10618276, -0.01951869,  0.01824921,\n",
       "            0.16081531,  0.00470446, -0.11102834,  0.19930781,\n",
       "           -0.10293071, -0.04579952,  0.15620942,  0.12375074],\n",
       "          [ 0.089787  , -0.01153535,  0.09505413,  0.01252171,\n",
       "            0.01028328, -0.17227145,  0.19172384, -0.0664776 ,\n",
       "            0.11484605, -0.02201657, -0.1485739 ,  0.10577492,\n",
       "            0.20154946,  0.20953433, -0.0713767 ,  0.1528144 ,\n",
       "           -0.08734884, -0.13003868,  0.02244879, -0.1879364 ,\n",
       "           -0.20948073,  0.01465081, -0.1237782 ,  0.05216353,\n",
       "            0.16523741,  0.10598024, -0.00841083, -0.04444523,\n",
       "           -0.06934711, -0.11289798,  0.01080729, -0.18702896]],\n",
       " \n",
       "         [[ 0.0667643 , -0.00572275,  0.05642809, -0.07187619,\n",
       "           -0.15181893,  0.03313114,  0.00157755,  0.17861268,\n",
       "            0.09052323, -0.10085708,  0.03751712, -0.12365025,\n",
       "           -0.19708148,  0.2410641 ,  0.18146154, -0.11597703,\n",
       "            0.11623499, -0.08552513, -0.01641645, -0.07604431,\n",
       "            0.11980104, -0.0928972 ,  0.19230944, -0.1043839 ,\n",
       "           -0.02647278, -0.08010672,  0.12460118,  0.00457275,\n",
       "           -0.07205283,  0.19022283, -0.13357143, -0.14552714],\n",
       "          [-0.07568505, -0.14090349,  0.02614352,  0.00255004,\n",
       "            0.17848326, -0.14848943, -0.08762275, -0.17433186,\n",
       "            0.15300393, -0.17295714,  0.0833781 ,  0.00361217,\n",
       "            0.06348633,  0.17726322,  0.22696652, -0.06771056,\n",
       "            0.14338668, -0.17460552, -0.17000455,  0.06020877,\n",
       "            0.06884668, -0.01437229,  0.13701424, -0.01554706,\n",
       "           -0.15749101,  0.12909687, -0.04720775,  0.13737434,\n",
       "           -0.07088478, -0.01407218, -0.07892963, -0.00702653],\n",
       "          [-0.13731211,  0.01304053, -0.02816403,  0.09042868,\n",
       "            0.06430534, -0.13361911,  0.17298815, -0.14683942,\n",
       "           -0.0075806 ,  0.03553207,  0.01345259, -0.00232128,\n",
       "           -0.04761615, -0.00881009,  0.15623176,  0.02524393,\n",
       "           -0.04276485, -0.15464208, -0.05974495,  0.07684773,\n",
       "           -0.01613504, -0.07569685, -0.03865945, -0.09317211,\n",
       "            0.02451114,  0.03427626, -0.03823046, -0.0741404 ,\n",
       "            0.03657269,  0.04744152, -0.17980129, -0.05489687]]],\n",
       " \n",
       " \n",
       "        [[[-0.13173595,  0.06747792, -0.07153253, -0.19818237,\n",
       "            0.05860353,  0.02932017,  0.1273998 ,  0.11243499,\n",
       "            0.00428271,  0.08629484,  0.02081437, -0.18613721,\n",
       "           -0.17291014, -0.12748596, -0.1402731 , -0.1447846 ,\n",
       "            0.1114332 ,  0.1258264 , -0.08512419, -0.06106591,\n",
       "           -0.11222231,  0.1179039 , -0.24678199, -0.02077106,\n",
       "            0.02389536,  0.12804097,  0.0889815 ,  0.06443179,\n",
       "           -0.13660824, -0.19863185, -0.00714347,  0.03703538],\n",
       "          [-0.213255  ,  0.08992425,  0.16390449, -0.17593302,\n",
       "           -0.04597874,  0.15439118, -0.14349005, -0.14036474,\n",
       "            0.07565937, -0.1320212 , -0.20131798, -0.05357845,\n",
       "           -0.1962192 , -0.0123708 , -0.02333917, -0.13104208,\n",
       "            0.05816701, -0.00330544, -0.14290775,  0.05097029,\n",
       "           -0.000462  ,  0.21908925, -0.24004464, -0.06472839,\n",
       "            0.02808883, -0.04154148, -0.11923026,  0.00513911,\n",
       "            0.06265365, -0.19655612,  0.06434333,  0.00485869],\n",
       "          [-0.10969801,  0.18492344,  0.05862593, -0.20028375,\n",
       "           -0.18711405,  0.2100038 ,  0.08002899,  0.09669185,\n",
       "            0.01192825,  0.0669166 , -0.10021341, -0.00635055,\n",
       "           -0.02443727,  0.0308442 , -0.17395343,  0.13369524,\n",
       "           -0.06449296, -0.02617233,  0.14835769, -0.14384694,\n",
       "           -0.03457367,  0.01633059, -0.11167719, -0.10649838,\n",
       "           -0.00277987, -0.1672581 ,  0.00404765,  0.09216592,\n",
       "            0.02607599, -0.08193642, -0.14486325, -0.08450191]],\n",
       " \n",
       "         [[ 0.02992583, -0.01461941, -0.01589398, -0.06629372,\n",
       "           -0.14233655,  0.01587705,  0.0346343 ,  0.11137935,\n",
       "           -0.12227842,  0.19237384, -0.03413193,  0.00470521,\n",
       "            0.12614766, -0.06376334,  0.05627549, -0.09635554,\n",
       "            0.03919706,  0.02271616, -0.04217957, -0.18654542,\n",
       "            0.09378448, -0.23085289,  0.06646611, -0.07362588,\n",
       "            0.14103898,  0.15272373,  0.23854096,  0.02012331,\n",
       "           -0.10539035,  0.12618133,  0.00144524,  0.00629542],\n",
       "          [-0.05857094, -0.22177716,  0.15400952,  0.12173862,\n",
       "           -0.07284746, -0.04052854, -0.13774644, -0.14786766,\n",
       "           -0.10123973, -0.1722213 , -0.13574697, -0.01613392,\n",
       "            0.01955812, -0.18712963, -0.20908044,  0.10937788,\n",
       "           -0.13984491,  0.13015443,  0.0936695 , -0.23994638,\n",
       "            0.11212754, -0.02100964, -0.00966054, -0.20988269,\n",
       "            0.17872906,  0.12041949, -0.12434665,  0.00402533,\n",
       "            0.05857338,  0.01102642,  0.20971778, -0.06753749],\n",
       "          [-0.09185261, -0.219947  ,  0.10093533, -0.04689022,\n",
       "           -0.05100743, -0.0914111 , -0.00072738,  0.06216705,\n",
       "            0.12994093, -0.13203688,  0.05831431,  0.13459183,\n",
       "            0.09606586, -0.22369514, -0.05956583,  0.12643318,\n",
       "           -0.23969361,  0.06874491, -0.00135388, -0.15390007,\n",
       "            0.00847178, -0.25225884, -0.07745083, -0.18675974,\n",
       "            0.23204748, -0.08982476, -0.14459525, -0.15966956,\n",
       "           -0.1062336 ,  0.01400349, -0.0321232 , -0.05765794]],\n",
       " \n",
       "         [[-0.21882664,  0.01822348, -0.01484617,  0.051593  ,\n",
       "           -0.10180807,  0.01673734,  0.08521868,  0.03363556,\n",
       "           -0.01792448,  0.1345284 ,  0.07078953, -0.14355917,\n",
       "            0.03037335, -0.18277413,  0.16563423, -0.05007252,\n",
       "            0.02779418, -0.159163  ,  0.01159649,  0.14756538,\n",
       "           -0.11340348,  0.06345682, -0.00599469, -0.21605143,\n",
       "           -0.15899326,  0.0856064 ,  0.13836274, -0.11121941,\n",
       "           -0.1645198 ,  0.17904077, -0.12251623,  0.06677353],\n",
       "          [-0.21854594, -0.05239936,  0.14474839,  0.20183143,\n",
       "            0.09712213, -0.18071063, -0.13670531, -0.0337453 ,\n",
       "           -0.07431023,  0.07498048,  0.1919767 , -0.05894072,\n",
       "           -0.0292657 , -0.13690223,  0.11174092, -0.17056942,\n",
       "           -0.14414454, -0.01503801, -0.01738308,  0.18247227,\n",
       "           -0.11461169, -0.10485669,  0.1174771 , -0.15470996,\n",
       "           -0.23372114, -0.12879515, -0.10912473,  0.08938833,\n",
       "           -0.10538675,  0.05546451,  0.00658865, -0.15060832],\n",
       "          [-0.1359493 ,  0.02368236,  0.15578316,  0.18880686,\n",
       "           -0.13102596, -0.1250334 ,  0.14037007,  0.00629247,\n",
       "            0.0421862 , -0.16795824,  0.04318047,  0.11884071,\n",
       "            0.18593971, -0.15639621,  0.13836168,  0.09388793,\n",
       "           -0.15377317, -0.00855574,  0.13897881,  0.15888786,\n",
       "            0.06892511, -0.073304  , -0.19627269, -0.04014622,\n",
       "           -0.20964216,  0.01704971, -0.08356374, -0.07802507,\n",
       "           -0.00861654,  0.14153579, -0.02907237, -0.2135198 ]]],\n",
       " \n",
       " \n",
       "        [[[ 0.03427363,  0.03331165, -0.2037189 ,  0.10965565,\n",
       "            0.10150499,  0.1102133 , -0.11345617,  0.01849333,\n",
       "           -0.05518015, -0.06593594, -0.15725529, -0.05627539,\n",
       "            0.00152366,  0.01572674,  0.08733975, -0.14275624,\n",
       "           -0.09213363, -0.09557695, -0.15605174, -0.03735316,\n",
       "            0.15870064,  0.00238718, -0.0881927 , -0.05047683,\n",
       "            0.00820218,  0.00575914,  0.02504241, -0.07183988,\n",
       "            0.02588191, -0.05207347, -0.01425999,  0.12096996],\n",
       "          [-0.02125811,  0.14131044,  0.05254762, -0.04625944,\n",
       "            0.17171584, -0.02539622, -0.05247939, -0.06326771,\n",
       "           -0.19119237, -0.11648085, -0.15457162,  0.00360157,\n",
       "           -0.02690797, -0.00372987, -0.1437353 ,  0.00550149,\n",
       "            0.10654337,  0.10033455,  0.13954733, -0.16711342,\n",
       "            0.22732484, -0.09572209,  0.00095607, -0.06939066,\n",
       "           -0.01501007, -0.1784468 , -0.11514102, -0.07297949,\n",
       "            0.19664134, -0.00849557,  0.11668199,  0.01746923],\n",
       "          [ 0.13994172,  0.06908391, -0.08144604,  0.05138279,\n",
       "            0.11041429,  0.22263119,  0.11972732, -0.1582644 ,\n",
       "           -0.1658009 ,  0.04176986, -0.12667911,  0.09404217,\n",
       "           -0.03316849, -0.07874465, -0.12723269,  0.09033422,\n",
       "            0.17171161, -0.16393723,  0.19236164, -0.08674926,\n",
       "            0.14968735, -0.19972268,  0.05501388, -0.24507502,\n",
       "            0.0538198 , -0.21134572,  0.05006548, -0.13368168,\n",
       "            0.01131616, -0.08893175, -0.15322383, -0.06905799]],\n",
       " \n",
       "         [[-0.0502776 ,  0.02082867, -0.21714123, -0.22403017,\n",
       "            0.04230525,  0.12703468, -0.09670945,  0.02689331,\n",
       "           -0.054456  ,  0.08685976,  0.10152688, -0.00422433,\n",
       "           -0.10322599, -0.01546625, -0.16402541, -0.05839283,\n",
       "            0.08040895,  0.1344303 , -0.1363754 ,  0.10789337,\n",
       "            0.22591066, -0.07552285, -0.04237538, -0.13175231,\n",
       "            0.08990169,  0.12198108,  0.1833187 , -0.06133678,\n",
       "            0.07948126, -0.04750297,  0.11963367, -0.11265017],\n",
       "          [ 0.20136999,  0.06695636, -0.0261708 , -0.03360934,\n",
       "           -0.05197659,  0.02376502, -0.11427315, -0.10188746,\n",
       "           -0.12681615, -0.09856703,  0.20516305,  0.08647155,\n",
       "           -0.0494911 ,  0.11215812, -0.09610843, -0.04078135,\n",
       "            0.08267917,  0.18595576,  0.10559282, -0.00197127,\n",
       "            0.06865252,  0.01720731, -0.12262642, -0.27788693,\n",
       "            0.11918023,  0.05377558, -0.16610542, -0.18943565,\n",
       "            0.11133249, -0.03320411, -0.08243486,  0.01184763],\n",
       "          [ 0.20411205, -0.04468068,  0.00615588, -0.16588494,\n",
       "           -0.16404817,  0.09846338,  0.13737252, -0.14347218,\n",
       "           -0.08348682, -0.09295886,  0.11902782,  0.0951276 ,\n",
       "           -0.23828103,  0.02693029,  0.02495942, -0.00673753,\n",
       "           -0.06009095,  0.16884597,  0.1267306 ,  0.08988477,\n",
       "            0.12809238, -0.03818925, -0.16955611, -0.05730922,\n",
       "           -0.00747924,  0.01223574, -0.08125477,  0.04063191,\n",
       "            0.08947239,  0.00067687, -0.15341681, -0.0447864 ]],\n",
       " \n",
       "         [[ 0.00506229, -0.04082237, -0.16744357, -0.12226366,\n",
       "           -0.01558023, -0.17452306, -0.06698895,  0.08470757,\n",
       "           -0.10033879, -0.00494305,  0.01272301, -0.17967233,\n",
       "            0.13308382, -0.07772102, -0.01476498,  0.03425361,\n",
       "            0.0776958 ,  0.13205113, -0.1791394 ,  0.16278006,\n",
       "            0.06278897,  0.08800249,  0.06043774, -0.04543842,\n",
       "           -0.16546229,  0.0726643 ,  0.12905878, -0.13647646,\n",
       "            0.06410296,  0.15316214,  0.03292302,  0.05158976],\n",
       "          [ 0.10521219, -0.12362066,  0.13432513,  0.03251683,\n",
       "            0.18988039, -0.19976532, -0.02207156, -0.09935827,\n",
       "            0.00165298,  0.11989254,  0.1605295 , -0.02103543,\n",
       "            0.12387596, -0.05936611,  0.02349641,  0.06577011,\n",
       "           -0.04349269,  0.14630455, -0.03451833,  0.08949118,\n",
       "           -0.14597423,  0.11562016, -0.00438152, -0.26930973,\n",
       "           -0.18125887,  0.06609545, -0.08290407, -0.15932225,\n",
       "            0.05180746,  0.05334417,  0.14025934, -0.04551191],\n",
       "          [ 0.1926383 , -0.09558246,  0.05908433, -0.01104553,\n",
       "            0.00413871, -0.08981744, -0.0256078 , -0.15021974,\n",
       "           -0.12032882, -0.0154075 ,  0.02668221,  0.13039102,\n",
       "            0.0040322 ,  0.13534284,  0.16049689, -0.17090595,\n",
       "           -0.19575012,  0.00634843,  0.0066608 ,  0.14805466,\n",
       "            0.08672035,  0.06699532, -0.28219885, -0.14015462,\n",
       "           -0.11892506, -0.01860387, -0.10470766,  0.12965684,\n",
       "            0.14308228,  0.18757394,  0.02018212, -0.07222003]]]],\n",
       "       dtype=float32)>,\n",
       " <tf.Variable 'conv2d_33/bias:0' shape=(32,) dtype=float32, numpy=\n",
       " array([ 0.0361849 , -0.06190581, -0.02287299,  0.11389907, -0.00324111,\n",
       "         0.0199071 , -0.05076968, -0.08977465, -0.00770512,  0.15000597,\n",
       "         0.030949  , -0.04765864, -0.06440931,  0.01549511,  0.03340694,\n",
       "        -0.01378415,  0.04008284, -0.00078727,  0.00429347,  0.01285712,\n",
       "         0.01277212,  0.00324845,  0.03668258,  0.06414175,  0.0248428 ,\n",
       "        -0.16825011,  0.01785985, -0.00991913,  0.01256647, -0.01856817,\n",
       "         0.00613999,  0.06082474], dtype=float32)>,\n",
       " <tf.Variable 'conv2d_34/kernel:0' shape=(3, 3, 32, 64) dtype=float32, numpy=\n",
       " array([[[[ 1.27167348e-02,  4.32738774e-02,  8.60723555e-02, ...,\n",
       "           -3.17458739e-03,  1.65052161e-01, -1.48299709e-01],\n",
       "          [-3.29972431e-02,  4.48230058e-02,  6.95642084e-02, ...,\n",
       "            7.34120980e-02,  1.51978070e-02, -6.87827989e-02],\n",
       "          [ 7.78834373e-02,  4.66473363e-02,  9.79106780e-03, ...,\n",
       "            1.25236064e-01, -1.44218411e-02,  2.33656876e-02],\n",
       "          ...,\n",
       "          [ 1.91794010e-03,  3.09467558e-02, -6.53579161e-02, ...,\n",
       "           -3.87936085e-02, -1.31631494e-01,  8.77716318e-02],\n",
       "          [ 2.90743615e-02,  7.63703231e-03, -3.44603993e-02, ...,\n",
       "           -5.16073853e-02, -2.80571338e-02,  3.58857922e-02],\n",
       "          [ 4.94323745e-02,  1.31318718e-01, -9.90589857e-02, ...,\n",
       "            4.88190241e-02, -1.49752647e-01,  1.78416800e-02]],\n",
       " \n",
       "         [[ 3.32197472e-02,  2.29143724e-02,  3.75447944e-02, ...,\n",
       "           -1.04805842e-01,  2.93681979e-01, -1.71713859e-01],\n",
       "          [-8.09932277e-02, -7.44066089e-02,  1.07158817e-01, ...,\n",
       "           -8.16297755e-02,  2.91843433e-02,  4.79130819e-02],\n",
       "          [-1.97520461e-02,  1.43969789e-01,  4.06067185e-02, ...,\n",
       "            1.44610316e-01,  6.94875345e-02, -3.64853181e-02],\n",
       "          ...,\n",
       "          [ 4.39308397e-02, -3.39754187e-02,  1.00904331e-02, ...,\n",
       "           -2.07315966e-01, -1.45938993e-01,  2.30219197e-02],\n",
       "          [ 8.55154395e-02,  2.32103467e-02,  1.55473068e-01, ...,\n",
       "            8.28791186e-02, -4.76895124e-02, -5.56819886e-02],\n",
       "          [-3.23284119e-02,  8.24357793e-02,  6.25121444e-02, ...,\n",
       "            1.08881384e-01,  3.88073698e-02,  5.82921728e-02]],\n",
       " \n",
       "         [[-8.57869461e-02, -8.65927711e-03, -5.93344402e-03, ...,\n",
       "           -5.13003804e-02,  2.49620780e-01,  4.77967188e-02],\n",
       "          [ 4.05237935e-02, -1.31423725e-02,  2.20288727e-02, ...,\n",
       "            6.73604617e-03,  7.51353353e-02,  2.00420320e-01],\n",
       "          [-7.41952332e-04, -2.28827372e-02, -3.60539742e-02, ...,\n",
       "            1.60178199e-01,  8.77624750e-02,  6.23977408e-02],\n",
       "          ...,\n",
       "          [-9.96029526e-02,  3.80115360e-02, -8.35296810e-02, ...,\n",
       "            1.26881406e-01, -1.21029215e-02,  1.00954287e-01],\n",
       "          [ 3.80404852e-02,  1.37697861e-01,  2.92003546e-02, ...,\n",
       "            8.86020064e-02,  2.31319349e-02,  6.58133924e-02],\n",
       "          [ 1.03713021e-01,  1.52076095e-01,  5.87543994e-02, ...,\n",
       "            1.58511057e-01,  7.36336634e-02, -6.83996826e-02]]],\n",
       " \n",
       " \n",
       "        [[[-5.31708561e-02,  1.18516617e-01,  2.10601419e-01, ...,\n",
       "           -4.04721834e-02,  1.03012413e-01, -1.44173309e-01],\n",
       "          [-1.18089676e-01,  8.07667673e-02,  3.95238167e-05, ...,\n",
       "            4.95610759e-02, -3.09357792e-02, -1.07444093e-01],\n",
       "          [ 8.60461518e-02,  6.38270378e-02,  4.54369525e-04, ...,\n",
       "           -3.82377617e-02, -5.01492471e-02,  1.26617104e-01],\n",
       "          ...,\n",
       "          [-8.63229707e-02,  2.18664818e-02, -5.32511212e-02, ...,\n",
       "            3.17453071e-02, -6.44986033e-02,  7.91391432e-02],\n",
       "          [ 2.02999692e-02,  9.65478644e-02, -1.49232909e-01, ...,\n",
       "            4.57747579e-02,  1.11893397e-02,  4.23508696e-03],\n",
       "          [ 2.35541654e-03,  1.53241619e-01, -2.07464490e-03, ...,\n",
       "            1.77756891e-01, -1.62247255e-01, -2.77237818e-02]],\n",
       " \n",
       "         [[ 7.31063411e-02,  1.13563659e-02,  2.56839633e-01, ...,\n",
       "           -1.54818207e-01,  4.15653130e-03, -2.81930261e-05],\n",
       "          [-8.02419260e-02, -1.06707610e-01,  7.39266649e-02, ...,\n",
       "           -4.90484051e-02, -2.35275388e-01, -5.64535558e-02],\n",
       "          [ 6.60524964e-02, -2.66891569e-02,  1.48336543e-02, ...,\n",
       "           -5.14752902e-02,  8.21821839e-02, -4.27529663e-02],\n",
       "          ...,\n",
       "          [-9.23614055e-02, -4.23091725e-02, -4.50000465e-02, ...,\n",
       "           -1.08418930e-02, -8.05529654e-02, -1.14497736e-01],\n",
       "          [-8.20595073e-04, -9.91415158e-02,  1.17939431e-02, ...,\n",
       "            7.58569222e-03, -1.04520611e-01, -4.12843674e-02],\n",
       "          [ 1.68144837e-01, -3.19477879e-02,  5.91340549e-02, ...,\n",
       "            1.01856589e-02, -1.53473109e-01,  1.11630924e-01]],\n",
       " \n",
       "         [[-9.53098387e-02,  3.43648568e-02, -8.17446783e-02, ...,\n",
       "           -3.02557707e-01,  1.27782434e-01,  1.86442852e-01],\n",
       "          [ 1.71667375e-02, -6.35930374e-02,  5.49793094e-02, ...,\n",
       "           -5.00876131e-03,  3.80738564e-02,  8.96289945e-03],\n",
       "          [ 8.51512626e-02, -1.12519205e-01, -2.96325684e-02, ...,\n",
       "            8.99269879e-02,  5.92124239e-02,  1.06641740e-01],\n",
       "          ...,\n",
       "          [-3.83525342e-02,  5.48364185e-02, -3.71591076e-02, ...,\n",
       "           -6.67573735e-02, -1.18622556e-01,  1.11604050e-01],\n",
       "          [-8.29191282e-02, -4.45488468e-02,  9.44145992e-02, ...,\n",
       "            9.72812846e-02,  4.48492095e-02, -7.73421256e-03],\n",
       "          [ 3.96505557e-02,  9.65258479e-02,  2.14710057e-01, ...,\n",
       "           -3.48290280e-02, -4.33426574e-02, -1.05771676e-01]]],\n",
       " \n",
       " \n",
       "        [[[ 2.83075590e-03,  2.60263681e-03,  8.04608315e-02, ...,\n",
       "            4.97630835e-02,  1.11207142e-01, -1.36176780e-01],\n",
       "          [ 2.02461220e-02, -3.92407030e-02, -1.07480563e-01, ...,\n",
       "           -1.58965155e-01, -1.11963870e-02,  5.54256439e-02],\n",
       "          [-2.14745421e-02, -4.50295918e-02,  4.97278608e-02, ...,\n",
       "           -3.80900539e-02, -2.47005261e-02,  3.60059664e-02],\n",
       "          ...,\n",
       "          [ 7.75375143e-02,  3.96226533e-03, -3.20003815e-02, ...,\n",
       "            5.73403388e-02,  7.28622973e-02, -6.14863336e-02],\n",
       "          [-6.18890040e-02, -4.06558327e-02, -5.52944131e-02, ...,\n",
       "           -2.19720919e-02,  1.45357186e-02,  1.49398223e-02],\n",
       "          [-1.59810800e-02, -5.48915192e-02, -9.23688784e-02, ...,\n",
       "            6.00787140e-02, -1.87924802e-01, -3.66138108e-02]],\n",
       " \n",
       "         [[-1.76432699e-01,  5.30726425e-02,  6.55299276e-02, ...,\n",
       "           -1.78935483e-01, -2.47015152e-02,  3.90977003e-02],\n",
       "          [-2.03141868e-02,  6.48163110e-02, -6.77771196e-02, ...,\n",
       "           -1.64184287e-01, -8.79624393e-03,  2.26062443e-02],\n",
       "          [-6.26960620e-02, -1.08167082e-01,  1.01829208e-02, ...,\n",
       "           -3.77699845e-02, -8.10905397e-02, -9.89916399e-02],\n",
       "          ...,\n",
       "          [ 2.27344055e-02, -9.14289206e-02,  2.12691873e-02, ...,\n",
       "           -1.53654993e-01, -1.32624894e-01, -5.29811345e-02],\n",
       "          [-1.64019853e-01, -1.74660355e-01, -4.35753874e-02, ...,\n",
       "            8.83423313e-02,  2.50880066e-02, -1.23184994e-01],\n",
       "          [ 4.34246622e-02, -5.15933596e-02, -5.52683435e-02, ...,\n",
       "            2.30182737e-01, -3.36468071e-02,  1.06929295e-01]],\n",
       " \n",
       "         [[-8.80907178e-02, -1.06139153e-01, -4.71243821e-02, ...,\n",
       "           -7.87683800e-02,  7.95670494e-04,  6.74247891e-02],\n",
       "          [-1.02715949e-02, -9.21035334e-02,  7.68799335e-02, ...,\n",
       "            4.79984619e-02, -7.56789073e-02, -2.76068561e-02],\n",
       "          [-7.46763498e-02, -4.96336783e-04,  7.92815685e-02, ...,\n",
       "           -1.76353067e-01,  7.01121017e-02,  2.14143153e-02],\n",
       "          ...,\n",
       "          [-6.49896562e-02,  7.82713667e-02, -2.85780430e-02, ...,\n",
       "           -2.38662604e-02,  9.12732969e-04,  1.02943093e-01],\n",
       "          [-1.26277551e-01,  6.44752234e-02, -6.66887909e-02, ...,\n",
       "            9.37894508e-02,  7.51759335e-02,  3.09812948e-02],\n",
       "          [-2.77021118e-02,  6.23499043e-02,  2.69488897e-02, ...,\n",
       "            9.02653858e-02, -1.13631524e-01, -3.53048556e-02]]]],\n",
       "       dtype=float32)>,\n",
       " <tf.Variable 'conv2d_34/bias:0' shape=(64,) dtype=float32, numpy=\n",
       " array([-0.06998692, -0.09453399, -0.10300904, -0.06539411, -0.06372941,\n",
       "         0.04438201,  0.05205723, -0.027961  ,  0.05895947, -0.06368106,\n",
       "         0.01823426, -0.0483553 , -0.05908734, -0.02329772, -0.05369715,\n",
       "         0.109091  , -0.05031007,  0.04827469, -0.1221051 , -0.00864027,\n",
       "        -0.04926878,  0.06287334, -0.02562523, -0.03116979, -0.04350711,\n",
       "        -0.08407442, -0.02448458,  0.26118475,  0.0279449 ,  0.03772756,\n",
       "        -0.15396774, -0.11445875,  0.01686577, -0.03091113, -0.00258777,\n",
       "        -0.0445471 ,  0.03653814,  0.09819084, -0.10354248, -0.04713722,\n",
       "         0.00931942, -0.04782534,  0.06951904,  0.00699215,  0.13763133,\n",
       "        -0.00111181, -0.00762499, -0.24245457, -0.06774835, -0.04401947,\n",
       "        -0.02723711, -0.06519534, -0.02705475, -0.08701234, -0.08226626,\n",
       "        -0.10856969, -0.00488683, -0.1080974 ,  0.11460595,  0.13758002,\n",
       "         0.04394953, -0.02276808,  0.0057572 , -0.03743525], dtype=float32)>,\n",
       " <tf.Variable 'conv2d_35/kernel:0' shape=(3, 3, 64, 64) dtype=float32, numpy=\n",
       " array([[[[ 1.17540568e-01,  1.54554017e-03, -9.10981596e-02, ...,\n",
       "           -2.27184910e-02,  9.34133492e-03, -1.81485951e-01],\n",
       "          [ 7.62649253e-02,  2.30242565e-01,  7.01813912e-03, ...,\n",
       "            6.42166361e-02, -1.23882256e-01, -1.19573101e-01],\n",
       "          [ 7.47707561e-02,  7.22436532e-02, -1.23550708e-03, ...,\n",
       "            2.53015943e-02, -1.35871887e-01, -1.85735568e-01],\n",
       "          ...,\n",
       "          [ 8.54266516e-04,  9.33231562e-02,  3.31672430e-02, ...,\n",
       "           -5.51912077e-02, -1.58736989e-01, -3.66551429e-02],\n",
       "          [ 2.59734392e-01,  2.03125045e-01, -4.82426994e-02, ...,\n",
       "            1.58388346e-01, -1.46576986e-01, -6.82876632e-02],\n",
       "          [ 2.06265017e-01, -1.14412412e-01,  3.19008119e-02, ...,\n",
       "            4.50429730e-02,  4.71198261e-02, -1.34085026e-02]],\n",
       " \n",
       "         [[ 8.16386193e-02, -1.00680077e-02, -1.89884361e-02, ...,\n",
       "           -3.02825794e-02, -6.16988055e-02, -7.53362030e-02],\n",
       "          [ 9.57508609e-02,  9.33683068e-02, -1.52379517e-02, ...,\n",
       "           -5.10466471e-02,  1.54945184e-03, -1.55860009e-02],\n",
       "          [-1.13196217e-01,  1.39250401e-02,  4.37817490e-03, ...,\n",
       "            5.87798059e-02, -3.12263481e-02, -2.77912855e-01],\n",
       "          ...,\n",
       "          [ 3.43818329e-02, -1.04614273e-01,  7.40815653e-03, ...,\n",
       "           -4.33672927e-02, -1.48227528e-01,  2.26178765e-01],\n",
       "          [ 1.35191172e-01, -1.50841981e-01, -5.34113608e-02, ...,\n",
       "           -8.77643898e-02,  2.96628522e-03, -1.18493605e-02],\n",
       "          [-6.96732327e-02,  1.95175633e-01,  2.04289462e-02, ...,\n",
       "           -5.07596433e-02, -9.68879275e-03, -5.49906716e-02]],\n",
       " \n",
       "         [[ 3.78277861e-02,  3.24951559e-02,  4.45076935e-02, ...,\n",
       "           -2.00345963e-02, -8.12457278e-02,  4.37082276e-02],\n",
       "          [ 6.56742007e-02,  3.95824499e-02, -3.03069968e-02, ...,\n",
       "           -9.15802866e-02,  9.23084933e-03, -2.40029320e-02],\n",
       "          [-7.56149143e-02, -1.69108599e-01,  2.78149098e-02, ...,\n",
       "            7.20940754e-02,  3.87161486e-02, -2.23551869e-01],\n",
       "          ...,\n",
       "          [ 1.12134498e-02, -1.33069098e-01, -5.94954155e-02, ...,\n",
       "           -1.74173132e-01, -2.61941731e-01,  1.12006612e-01],\n",
       "          [ 1.08086430e-01, -7.58897960e-02, -6.76169619e-02, ...,\n",
       "           -9.51938331e-02,  1.49638802e-02,  5.44194207e-02],\n",
       "          [ 9.52185988e-02,  1.39744133e-01, -3.23624238e-02, ...,\n",
       "            4.34202850e-02, -6.26039281e-02,  8.93280730e-02]]],\n",
       " \n",
       " \n",
       "        [[[-3.00300289e-02, -3.59408110e-02,  2.29697358e-02, ...,\n",
       "            7.01684803e-02, -4.50799391e-02, -4.03767638e-02],\n",
       "          [-4.96348329e-02,  7.64978677e-02, -1.68880410e-02, ...,\n",
       "           -3.22111063e-02, -8.60821605e-02, -1.84361622e-01],\n",
       "          [-9.28137749e-02,  5.68460263e-02,  1.29256723e-02, ...,\n",
       "           -3.05465788e-01, -9.27725658e-02, -9.44836065e-02],\n",
       "          ...,\n",
       "          [ 1.56647563e-01, -1.72273803e-03, -5.88718615e-02, ...,\n",
       "            1.23568609e-01,  9.23195407e-02, -6.88654780e-02],\n",
       "          [ 8.35756883e-02,  1.21637449e-01, -7.90066421e-02, ...,\n",
       "            2.34554615e-02,  1.33595392e-01, -1.84186865e-02],\n",
       "          [-2.62811273e-01, -1.09758273e-01, -6.14609495e-02, ...,\n",
       "            1.15423441e-01,  8.45468640e-02, -2.82728728e-02]],\n",
       " \n",
       "         [[-1.39218625e-02, -1.38895623e-02, -5.76544665e-02, ...,\n",
       "            2.64681727e-02,  3.48904617e-02, -1.34614050e-01],\n",
       "          [-2.55806837e-02, -3.93929593e-02, -4.47772145e-02, ...,\n",
       "           -8.75427350e-02, -4.15120609e-02, -1.69821963e-01],\n",
       "          [-5.07751256e-02, -5.30092418e-02, -3.39886583e-02, ...,\n",
       "           -1.23578891e-01, -1.08720614e-02, -1.78834379e-01],\n",
       "          ...,\n",
       "          [ 7.29309246e-02, -4.89197969e-02, -6.19314164e-02, ...,\n",
       "            1.09320484e-01,  5.40768616e-02,  7.11951032e-02],\n",
       "          [-4.60539125e-02,  1.31095707e-01, -4.00891937e-02, ...,\n",
       "            8.03807825e-02,  2.36662582e-01,  3.32964659e-02],\n",
       "          [-1.94482401e-01,  7.10217506e-02, -5.22288233e-02, ...,\n",
       "            1.14278592e-01, -4.11567092e-02, -3.27758156e-02]],\n",
       " \n",
       "         [[-7.03575611e-02, -6.77433535e-02,  3.30953971e-02, ...,\n",
       "            7.02740178e-02, -6.02727942e-02,  5.75191788e-02],\n",
       "          [-1.19451486e-01,  1.26850456e-02,  7.21106166e-03, ...,\n",
       "           -1.85279593e-01, -1.52266361e-02, -7.54381940e-02],\n",
       "          [-1.10433295e-01, -1.97540015e-01, -7.44627491e-02, ...,\n",
       "           -1.86236829e-01,  7.05122296e-03, -1.91704288e-01],\n",
       "          ...,\n",
       "          [-3.34894322e-02, -1.03094332e-01, -1.90923512e-02, ...,\n",
       "            3.32776047e-02,  3.42437765e-03,  7.20748603e-02],\n",
       "          [-1.25421658e-01, -3.75860594e-02, -3.90754491e-02, ...,\n",
       "           -1.37058049e-01,  8.95317271e-02,  2.64329500e-02],\n",
       "          [-1.19818650e-01,  2.11548939e-01, -4.39805500e-02, ...,\n",
       "            4.13207039e-02, -1.43972963e-01,  4.50456049e-03]]],\n",
       " \n",
       " \n",
       "        [[[-7.23011121e-02,  2.19872948e-02, -8.15981254e-02, ...,\n",
       "            1.29889339e-01,  3.18819843e-02,  7.74564892e-02],\n",
       "          [-7.95729831e-02,  2.76966840e-01, -6.58284947e-02, ...,\n",
       "           -1.04966685e-01, -1.76550254e-01,  2.59035602e-02],\n",
       "          [ 4.67411131e-02,  8.20789337e-02, -9.46635604e-02, ...,\n",
       "           -5.41740023e-02, -1.75160035e-01,  2.39182025e-01],\n",
       "          ...,\n",
       "          [-1.56581521e-01,  2.03400676e-04, -1.33181438e-02, ...,\n",
       "            1.62879646e-01,  5.86407632e-02, -2.78005779e-01],\n",
       "          [ 5.58290817e-02,  9.92754549e-02, -6.47057546e-04, ...,\n",
       "            1.12539738e-01,  4.67534736e-02, -1.27403155e-01],\n",
       "          [-1.05550736e-01, -1.00938499e-01,  1.31753050e-02, ...,\n",
       "           -4.05004285e-02,  1.26215100e-01, -6.07557260e-02]],\n",
       " \n",
       "         [[-1.32568881e-01, -4.04848680e-02,  2.58975197e-03, ...,\n",
       "            4.62107621e-02,  3.41685899e-02,  1.10725775e-01],\n",
       "          [-7.16763660e-02,  3.45035344e-02,  5.20011131e-03, ...,\n",
       "           -1.07126087e-01, -9.93362963e-02,  4.97580878e-02],\n",
       "          [ 4.44082879e-02,  8.04712027e-02,  4.09099795e-02, ...,\n",
       "           -5.56890219e-02, -4.57895398e-02,  1.25989169e-01],\n",
       "          ...,\n",
       "          [-9.44065973e-02,  3.90820205e-02,  2.09710877e-02, ...,\n",
       "            1.50070399e-01,  3.46842743e-02, -1.10635355e-01],\n",
       "          [-1.04044236e-01,  3.90063114e-02,  3.17623699e-03, ...,\n",
       "            1.29088432e-01,  3.47883143e-02,  2.19502356e-02],\n",
       "          [ 5.22918180e-02, -4.76047359e-02, -3.34948525e-02, ...,\n",
       "            2.66446713e-02, -6.85900226e-02, -1.45322457e-01]],\n",
       " \n",
       "         [[-8.53629187e-02,  3.18278298e-02, -2.34139785e-02, ...,\n",
       "            7.66116455e-02, -2.73967162e-03,  4.23078686e-02],\n",
       "          [ 3.62001583e-02, -3.33980396e-02, -4.37746234e-02, ...,\n",
       "           -1.72981601e-02, -6.74818009e-02, -7.56738661e-03],\n",
       "          [-1.33052871e-01,  1.16598140e-02, -2.32581086e-02, ...,\n",
       "           -9.59251747e-02,  1.08325612e-02,  3.27511765e-02],\n",
       "          ...,\n",
       "          [-6.55570105e-02,  4.65846844e-02,  6.87400997e-02, ...,\n",
       "            1.23111323e-01,  4.98333089e-02, -4.64554057e-02],\n",
       "          [ 4.74901311e-02, -6.17736317e-02, -6.03050366e-02, ...,\n",
       "           -1.04610482e-03,  7.31797442e-02, -4.65091579e-02],\n",
       "          [ 2.55426139e-01, -7.60022402e-02, -8.53762254e-02, ...,\n",
       "           -9.84337181e-02,  8.22643265e-02, -1.82044521e-01]]]],\n",
       "       dtype=float32)>,\n",
       " <tf.Variable 'conv2d_35/bias:0' shape=(64,) dtype=float32, numpy=\n",
       " array([ 0.05554263,  0.02081125, -0.03887857, -0.04734944, -0.06681632,\n",
       "        -0.00044904, -0.02398299,  0.04217558,  0.05060291,  0.1857747 ,\n",
       "         0.21418828,  0.13518141,  0.03138503,  0.23533829,  0.03473203,\n",
       "         0.09086227,  0.06756316, -0.04790928,  0.11224022,  0.02928503,\n",
       "         0.12942943,  0.08376978, -0.02297135, -0.03255854, -0.04278067,\n",
       "         0.17151204,  0.09138858,  0.16057637, -0.02672732, -0.04964283,\n",
       "         0.15751392,  0.02940769, -0.0876577 , -0.02792401, -0.07330813,\n",
       "         0.17215842, -0.06116365,  0.03409062, -0.00410506,  0.17906839,\n",
       "        -0.05392576, -0.03030307,  0.03720514,  0.09810263, -0.05930048,\n",
       "        -0.02438115,  0.00963814,  0.15405123,  0.12407243, -0.03962155,\n",
       "         0.1503477 , -0.04680381, -0.09401125,  0.14763755,  0.2041609 ,\n",
       "         0.01424057,  0.05851158,  0.15512747,  0.12343036, -0.0693662 ,\n",
       "         0.06467766,  0.16777016,  0.09653305,  0.05555278], dtype=float32)>,\n",
       " <tf.Variable 'dense_22/kernel:0' shape=(4096, 64) dtype=float32, numpy=\n",
       " array([[ 5.34874760e-02,  2.60344259e-02, -3.36990841e-02, ...,\n",
       "          9.79614332e-02,  1.58627983e-02,  1.68328032e-01],\n",
       "        [-1.10733695e-01, -6.05633296e-02,  1.35919033e-02, ...,\n",
       "         -1.94936134e-02, -2.43777223e-02, -1.86290279e-01],\n",
       "        [ 3.66633385e-02,  1.56149380e-02, -1.93866044e-02, ...,\n",
       "         -2.94611976e-03,  3.60289216e-02,  9.48543847e-03],\n",
       "        ...,\n",
       "        [ 2.84110736e-02, -1.20508075e-02, -3.06664966e-03, ...,\n",
       "         -4.55726385e-02,  2.65650209e-02, -1.58177949e-02],\n",
       "        [ 1.37063637e-01,  1.13105461e-01,  3.37555222e-02, ...,\n",
       "          1.67171173e-02, -1.47524569e-02,  3.93615030e-02],\n",
       "        [-9.57163429e-05,  2.74226397e-01,  2.27272622e-02, ...,\n",
       "          2.70708323e-01, -2.34012939e-02,  1.94969445e-01]], dtype=float32)>,\n",
       " <tf.Variable 'dense_22/bias:0' shape=(64,) dtype=float32, numpy=\n",
       " array([ 0.14564002,  0.12246615, -0.01534956, -0.02803655,  0.06393327,\n",
       "        -0.03605314,  0.206642  , -0.00714992,  0.00527881, -0.04973954,\n",
       "         0.0293998 ,  0.06604561, -0.0107009 , -0.01175645, -0.00706018,\n",
       "        -0.02591136, -0.03641059, -0.0077299 , -0.05282175, -0.00490471,\n",
       "        -0.01577561, -0.05271302,  0.01628689,  0.03258836, -0.01490884,\n",
       "        -0.02465164, -0.04559698, -0.06318764, -0.02486433,  0.01637799,\n",
       "         0.05881046,  0.15098478,  0.04383429, -0.02964289, -0.0068058 ,\n",
       "        -0.06111248,  0.13756502,  0.02435528, -0.01577207, -0.04380309,\n",
       "        -0.02617398, -0.00632614,  0.03517846, -0.0465134 ,  0.04466607,\n",
       "        -0.00986107,  0.03719672,  0.01977477,  0.04301509, -0.01447331,\n",
       "        -0.03315361, -0.00757045, -0.02715795, -0.01113048, -0.04058885,\n",
       "        -0.04253333,  0.1294299 , -0.03524711, -0.01777902, -0.0312636 ,\n",
       "        -0.00777978,  0.05666221, -0.00422705, -0.06144716], dtype=float32)>,\n",
       " <tf.Variable 'dense_23/kernel:0' shape=(64, 10) dtype=float32, numpy=\n",
       " array([[-3.39377373e-02, -2.29685485e-01,  2.79709220e-01,\n",
       "          9.44553390e-02,  1.15300559e-01, -2.99540550e-01,\n",
       "          2.07689717e-01, -2.07046494e-01, -1.01018019e-01,\n",
       "         -2.83324212e-01],\n",
       "        [-1.50073484e-01, -6.11539260e-02,  9.25815925e-02,\n",
       "         -1.14737011e-01,  2.86448263e-02,  2.61513114e-01,\n",
       "          3.41302425e-01, -1.98590875e-01,  2.02156961e-01,\n",
       "         -3.59662890e-01],\n",
       "        [-7.59186037e-03, -2.51069635e-01,  1.84273899e-01,\n",
       "          2.66325414e-01,  2.52287954e-01, -2.59105235e-01,\n",
       "          5.29456958e-02,  1.49594799e-01,  8.58638361e-02,\n",
       "          2.41631240e-01],\n",
       "        [ 2.16517761e-01, -1.12595089e-01, -1.61114633e-01,\n",
       "          7.86302388e-02,  1.85921982e-01, -1.99282721e-01,\n",
       "          6.76581338e-02, -2.31928661e-01,  1.52444974e-01,\n",
       "         -1.06838226e-01],\n",
       "        [ 3.61298136e-02,  3.16662759e-01, -2.81375498e-01,\n",
       "          2.19032064e-01, -5.47943264e-02,  6.59591332e-02,\n",
       "          2.69755155e-01, -1.00873314e-01,  3.16696577e-02,\n",
       "          4.99848574e-02],\n",
       "        [ 6.55957833e-02,  1.29876390e-01, -3.00401300e-01,\n",
       "          1.00422136e-01,  1.70460597e-01, -1.66071206e-01,\n",
       "          2.37245113e-01, -1.14541180e-01, -2.27904126e-01,\n",
       "         -2.74253488e-02],\n",
       "        [-4.37386669e-02, -4.12193686e-01,  2.47361690e-01,\n",
       "          2.45092690e-01,  2.98046321e-01,  2.54081905e-01,\n",
       "          3.13967526e-01, -1.65401638e-01, -1.28826231e-01,\n",
       "         -1.86662242e-01],\n",
       "        [ 2.45997906e-01,  3.73927969e-03, -1.12618178e-01,\n",
       "         -1.00810826e-01, -3.25795673e-02, -1.67137571e-02,\n",
       "         -7.90603384e-02, -4.98909473e-01, -8.32635313e-02,\n",
       "          6.72484785e-02],\n",
       "        [-3.34348887e-01,  9.35916156e-02, -3.19878578e-01,\n",
       "         -1.69811159e-01,  1.59127861e-01,  1.77510828e-01,\n",
       "         -1.62403405e-01,  9.55337137e-02, -3.87348950e-01,\n",
       "         -1.34295672e-01],\n",
       "        [-2.51258373e-01,  1.16273165e-01, -9.15767476e-02,\n",
       "          3.41810882e-01, -3.90425652e-01, -3.55399638e-01,\n",
       "         -5.98792844e-02, -1.45094812e-01, -3.09542656e-01,\n",
       "          4.23850678e-03],\n",
       "        [-2.67729104e-01,  3.14456344e-01,  2.07300082e-01,\n",
       "          1.27061456e-01, -2.46982068e-01,  1.51239276e-01,\n",
       "          2.26753294e-01,  1.54794142e-01,  9.59298536e-02,\n",
       "          2.58771271e-01],\n",
       "        [-1.79826766e-01, -4.08233106e-01,  1.16355151e-01,\n",
       "         -1.58105597e-01,  1.30475998e-01, -1.19792432e-01,\n",
       "         -1.35377795e-01,  1.47747815e-01, -2.74388194e-01,\n",
       "         -4.23486233e-01],\n",
       "        [-1.83024071e-02,  1.73659950e-01,  6.66787475e-02,\n",
       "         -2.39110097e-01,  3.04794878e-01, -1.77566901e-01,\n",
       "          1.98099986e-01,  2.89004892e-01, -1.06069669e-01,\n",
       "          3.68951082e-01],\n",
       "        [ 2.88280658e-03,  2.01691076e-01, -9.17241648e-02,\n",
       "          2.35923350e-01, -2.52456460e-02, -1.61390670e-03,\n",
       "          1.96534634e-01,  1.64848000e-01, -1.45952836e-01,\n",
       "         -2.43718043e-01],\n",
       "        [ 1.03783280e-01,  3.29403967e-01, -5.05726524e-02,\n",
       "         -2.55276829e-01, -1.74564833e-03,  6.25245795e-02,\n",
       "         -1.22224689e-01, -3.21761817e-01,  3.07446480e-01,\n",
       "          2.28291333e-01],\n",
       "        [-1.33100078e-01, -1.92239970e-01, -1.37618557e-01,\n",
       "          1.39473766e-01,  2.45222211e-01,  1.40784085e-01,\n",
       "         -1.72443792e-01, -2.18158618e-01, -2.99119085e-01,\n",
       "         -1.63565397e-01],\n",
       "        [-2.93693632e-01, -6.77986965e-02, -2.32365310e-01,\n",
       "         -2.02792168e-01,  1.41685978e-01, -2.55151168e-02,\n",
       "          8.48952532e-02, -2.46385872e-01,  8.49087462e-02,\n",
       "          8.42523500e-02],\n",
       "        [ 2.21196458e-01,  1.76356956e-01,  2.14402691e-01,\n",
       "          2.58478314e-01, -2.59244025e-01, -5.59709929e-02,\n",
       "          4.34360653e-02, -2.13360056e-01, -2.78646171e-01,\n",
       "         -8.67360830e-02],\n",
       "        [-9.03014541e-02,  1.85431857e-02, -2.57348835e-01,\n",
       "         -3.57213579e-02,  1.87881798e-01,  2.79348865e-02,\n",
       "         -2.81239003e-01, -1.46813348e-01,  2.26297364e-01,\n",
       "          1.54348597e-01],\n",
       "        [-7.45753869e-02,  1.18630588e-01,  6.60122279e-03,\n",
       "          7.59466290e-02,  9.00110900e-02, -2.23639190e-01,\n",
       "         -8.54925811e-02,  2.08095759e-01, -9.97871906e-02,\n",
       "          1.77057266e-01],\n",
       "        [ 2.39463210e-01,  2.86576480e-01, -3.48137826e-01,\n",
       "         -1.42630965e-01, -2.46416748e-01, -3.42614889e-01,\n",
       "          1.60747692e-01, -2.92356938e-01, -1.68851584e-01,\n",
       "          1.98463276e-01],\n",
       "        [ 1.50546208e-01, -5.29718846e-02,  1.89190477e-01,\n",
       "         -4.16621156e-02,  7.62592107e-02,  2.41467372e-01,\n",
       "         -1.17212735e-01,  1.10561013e-01,  2.72560641e-02,\n",
       "         -1.86762795e-01],\n",
       "        [-1.57124251e-01, -6.42435402e-02, -1.70935556e-01,\n",
       "          2.70126257e-02, -1.74961865e-01,  3.34313899e-01,\n",
       "         -6.39556423e-02,  4.26284820e-02,  3.28595698e-01,\n",
       "         -3.33117247e-01],\n",
       "        [-1.00782393e-02, -2.43752867e-01,  1.21676642e-02,\n",
       "          9.48649459e-03, -1.13160737e-01, -1.10341385e-01,\n",
       "         -3.44299793e-01, -2.50943720e-01,  5.19251786e-02,\n",
       "          3.95758636e-02],\n",
       "        [ 1.97788477e-01,  1.88609928e-01, -1.31552992e-02,\n",
       "         -1.01321630e-01,  1.47130519e-01,  3.29462346e-03,\n",
       "         -2.12120131e-01,  1.10626772e-01, -2.61616558e-01,\n",
       "         -9.45856422e-02],\n",
       "        [-1.86692595e-01, -7.11172447e-02,  2.92187985e-02,\n",
       "          2.01348007e-01,  8.90590996e-02, -1.48307711e-01,\n",
       "          2.73987791e-03, -2.40339905e-01, -8.56923163e-02,\n",
       "          1.36275828e-01],\n",
       "        [ 1.64499491e-01, -8.04077163e-02, -1.12218648e-01,\n",
       "         -1.06688149e-01,  5.61027741e-03, -1.97335660e-01,\n",
       "          1.42965596e-02, -2.52496064e-01, -3.13542783e-02,\n",
       "          1.18888207e-02],\n",
       "        [ 2.77452350e-01,  1.34787381e-01, -1.84885070e-01,\n",
       "          3.45754204e-03,  9.27141011e-02, -2.95730263e-01,\n",
       "          1.92443691e-02, -9.86443385e-02, -3.40512581e-02,\n",
       "          2.51621544e-01],\n",
       "        [ 1.40130609e-01,  1.13958009e-01,  2.11859226e-01,\n",
       "         -1.02296971e-01,  2.05669761e-01, -2.27447346e-01,\n",
       "          2.19091088e-01, -5.67638576e-02,  1.11846477e-01,\n",
       "         -2.21593335e-01],\n",
       "        [ 8.67358968e-03, -2.44555324e-01,  4.47379006e-03,\n",
       "          1.80494189e-01, -2.08774284e-01,  2.51443177e-01,\n",
       "         -3.13453168e-01,  3.16381454e-01, -3.86264622e-01,\n",
       "          2.72770047e-01],\n",
       "        [-1.97238376e-04, -5.89350909e-02, -3.12527120e-01,\n",
       "          1.22396298e-01, -2.21948382e-02,  9.05092582e-02,\n",
       "          1.15651317e-01,  2.50509918e-01, -4.15595621e-01,\n",
       "         -2.93472886e-01],\n",
       "        [-4.39466923e-01, -1.83889091e-01, -4.62179407e-02,\n",
       "         -7.68766180e-02,  2.70376533e-01,  1.99003480e-02,\n",
       "          3.20463590e-02, -2.56810814e-01, -4.58732963e-01,\n",
       "         -9.09562334e-02],\n",
       "        [-5.01361080e-02, -2.58571923e-01,  6.05129153e-02,\n",
       "         -9.71892700e-02, -2.93783545e-01,  1.54232502e-01,\n",
       "         -1.69587448e-01,  2.06270158e-01,  3.37692469e-01,\n",
       "         -1.17709100e-01],\n",
       "        [-3.12142134e-01,  7.84602538e-02,  2.33870998e-01,\n",
       "         -2.59176306e-02,  3.99875408e-03, -1.70590580e-01,\n",
       "         -1.62427679e-01,  2.38596082e-01,  2.02989012e-01,\n",
       "          4.56236191e-02],\n",
       "        [ 1.57071307e-01, -7.21110031e-02, -2.45359570e-01,\n",
       "         -1.65825620e-01, -4.05164175e-02,  2.76895553e-01,\n",
       "         -2.12670475e-01, -1.05720140e-01,  1.08892776e-01,\n",
       "          1.35714635e-01],\n",
       "        [-2.12059259e-01, -9.26628709e-02,  1.02777258e-01,\n",
       "         -1.63492173e-01, -2.25657299e-01,  1.58118203e-01,\n",
       "          1.21055171e-01,  5.64881973e-02,  1.23319134e-01,\n",
       "         -3.77456509e-02],\n",
       "        [-1.18630722e-01, -9.72811282e-02,  1.53344750e-01,\n",
       "          8.31773579e-02, -1.73437700e-01,  1.94836602e-01,\n",
       "          3.79068762e-01, -3.46603274e-01, -5.65565705e-01,\n",
       "          1.31053060e-01],\n",
       "        [-2.10822970e-01,  1.35686010e-01,  1.05610356e-01,\n",
       "         -1.96514092e-02, -2.37635881e-01, -3.95219952e-01,\n",
       "          3.09128333e-02, -9.38264877e-02,  2.18390360e-01,\n",
       "          2.13672996e-01],\n",
       "        [ 6.05862401e-02, -1.61272854e-01,  1.73998877e-01,\n",
       "          2.19576791e-01, -1.84941456e-01, -3.63674238e-02,\n",
       "          6.04993701e-02,  9.21780095e-02,  2.23900229e-02,\n",
       "         -6.30257651e-02],\n",
       "        [ 1.45230368e-01,  1.03908882e-01,  6.13671616e-02,\n",
       "          3.28276940e-02, -2.40238328e-02, -1.83861200e-02,\n",
       "          1.36664763e-01, -2.32254684e-01, -2.29004726e-01,\n",
       "         -2.30935678e-01],\n",
       "        [ 6.87900782e-02,  2.58966953e-01,  1.97475493e-01,\n",
       "         -1.11608263e-02,  6.15424588e-02,  1.67464957e-01,\n",
       "         -3.75882566e-01,  2.78956853e-02, -1.64567649e-01,\n",
       "         -7.04286769e-02],\n",
       "        [ 1.70126945e-01,  7.40578100e-02, -2.59925514e-01,\n",
       "          2.61440694e-01, -1.92659065e-01, -1.37762100e-01,\n",
       "          2.15446249e-01, -2.59890914e-01, -1.21001013e-01,\n",
       "         -1.74632743e-01],\n",
       "        [ 4.02507000e-02, -2.66460031e-01, -1.27087638e-01,\n",
       "         -5.65687343e-02,  2.19516009e-01,  2.80157328e-01,\n",
       "         -3.26195449e-01,  2.35244289e-01, -2.11612687e-01,\n",
       "         -9.13532674e-02],\n",
       "        [-5.46882525e-02,  5.70279099e-02, -8.54953825e-02,\n",
       "         -3.01446486e-02, -2.50434875e-01, -1.28241479e-01,\n",
       "          4.89768423e-02,  1.43989265e-01,  1.56623974e-01,\n",
       "          1.62762269e-01],\n",
       "        [ 2.22874761e-01, -4.99520190e-02,  3.36535692e-01,\n",
       "         -3.01591247e-01,  1.09916881e-01, -2.07958028e-01,\n",
       "         -9.38594118e-02, -2.35707372e-01,  1.54446308e-02,\n",
       "         -2.17768133e-01],\n",
       "        [-1.20859027e-01,  7.85689726e-02, -3.70262600e-02,\n",
       "         -4.00609300e-02,  1.08136512e-01,  8.34753960e-02,\n",
       "          2.25390702e-01, -2.38082349e-01,  1.56990290e-02,\n",
       "         -1.60602242e-01],\n",
       "        [-7.90815502e-02,  1.62955597e-02, -2.79343575e-01,\n",
       "         -1.67329945e-02,  8.88918713e-02, -1.38542011e-01,\n",
       "         -3.93293679e-01, -2.77893394e-01,  2.05746174e-01,\n",
       "          3.28670382e-01],\n",
       "        [-1.84533060e-01,  3.44182432e-01, -1.67847171e-01,\n",
       "          1.72751293e-01, -1.59382403e-01,  3.02313477e-01,\n",
       "         -2.46329576e-01, -1.73748955e-01,  2.15552747e-01,\n",
       "         -5.69208898e-02],\n",
       "        [ 2.34820798e-01, -1.77264065e-01, -1.82383642e-01,\n",
       "          1.18113630e-01,  1.41434789e-01, -3.02026689e-01,\n",
       "         -3.03232074e-01,  1.50663313e-04,  1.44159645e-01,\n",
       "         -1.32190093e-01],\n",
       "        [ 1.16911352e-01, -1.85364895e-02, -2.43884817e-01,\n",
       "          5.74617460e-03,  2.23502070e-01, -1.59146413e-01,\n",
       "         -3.64306159e-02,  2.44480632e-02, -2.70228386e-01,\n",
       "          1.98250860e-02],\n",
       "        [ 2.22026557e-01, -3.32360476e-01, -1.32669628e-01,\n",
       "          1.44101515e-01, -1.78095028e-01,  1.56008869e-01,\n",
       "         -2.40425933e-02, -2.43895024e-01, -1.19379096e-01,\n",
       "         -2.25125179e-01],\n",
       "        [ 3.83594558e-02,  2.56911755e-01,  2.25938827e-01,\n",
       "          2.01661568e-02,  1.41319573e-01, -1.23217605e-01,\n",
       "         -2.25596935e-01, -9.56250578e-02, -5.44982553e-02,\n",
       "         -3.84359598e-01],\n",
       "        [ 1.34632275e-01, -2.32885242e-01, -2.88229525e-01,\n",
       "          5.81002906e-02, -5.99663630e-02, -1.95591617e-02,\n",
       "         -2.48094693e-01, -1.88010305e-01,  5.14537953e-02,\n",
       "          6.31264150e-02],\n",
       "        [-2.55626023e-01,  7.85185844e-02, -1.03131328e-02,\n",
       "          1.80171102e-01,  1.37582853e-01, -1.39666721e-01,\n",
       "          1.03898957e-01,  3.81990112e-02, -1.36475921e-01,\n",
       "         -1.22932799e-01],\n",
       "        [-3.85291949e-02,  4.32213116e-03, -2.32805684e-01,\n",
       "          2.42998034e-01, -1.18328676e-01, -2.67847210e-01,\n",
       "         -3.65687907e-02, -1.63000867e-01,  1.07681550e-01,\n",
       "         -4.17430811e-02],\n",
       "        [-2.74668008e-01, -2.53781587e-01,  4.38202731e-02,\n",
       "         -3.13509792e-01,  6.38842359e-02, -4.06808436e-01,\n",
       "         -2.73635626e-01,  1.46183446e-01, -8.18913132e-02,\n",
       "          3.07042360e-01],\n",
       "        [-2.57379562e-01, -7.67369494e-02, -9.37939733e-02,\n",
       "          3.13794702e-01,  3.11313570e-01, -8.91245902e-03,\n",
       "          1.04150347e-01,  2.53203511e-01,  1.76112011e-01,\n",
       "         -2.01411292e-01],\n",
       "        [-1.78365692e-01,  1.39749870e-01, -4.13228609e-02,\n",
       "          1.04101919e-01, -7.53281340e-02, -2.20230535e-01,\n",
       "          2.76756793e-01, -2.12961495e-01,  1.30904123e-01,\n",
       "         -5.93340807e-02],\n",
       "        [ 2.93058097e-01, -9.69969556e-02,  3.38137329e-01,\n",
       "          9.28348601e-02, -2.56196707e-01, -1.03205219e-01,\n",
       "          1.43683791e-01,  1.38423100e-01, -2.70392299e-01,\n",
       "         -3.13551426e-02],\n",
       "        [ 8.69204849e-02,  5.13049550e-02, -6.41724444e-04,\n",
       "         -3.46304849e-02, -2.54957885e-01,  8.07739794e-02,\n",
       "          4.12478186e-02,  1.86502524e-02, -8.31415132e-02,\n",
       "         -1.18215963e-01],\n",
       "        [ 1.46044105e-01,  2.09973559e-01, -1.32176697e-01,\n",
       "         -1.79604180e-02, -1.88119709e-01, -1.18089132e-01,\n",
       "         -1.16963729e-01, -1.72805518e-01, -4.41412954e-03,\n",
       "          1.03480695e-02],\n",
       "        [ 1.89029917e-01, -1.56089723e-01,  3.28256097e-03,\n",
       "          4.04984988e-02, -2.79140651e-01, -2.59463154e-02,\n",
       "          1.88271776e-01, -3.00209224e-01,  3.12348664e-01,\n",
       "         -1.88433733e-02],\n",
       "        [-6.54452518e-02, -8.31087772e-03,  1.13432363e-01,\n",
       "          1.85149498e-02,  2.62115091e-01, -6.46535680e-02,\n",
       "         -2.20828131e-01,  2.34279856e-01, -2.39631921e-01,\n",
       "          1.63761348e-01],\n",
       "        [ 1.47591263e-01, -1.00569703e-01, -1.78365573e-01,\n",
       "         -3.17714304e-01, -9.83199254e-02, -2.61873513e-01,\n",
       "         -2.03080133e-01,  3.01527679e-01,  2.56975442e-01,\n",
       "         -2.95123726e-01]], dtype=float32)>,\n",
       " <tf.Variable 'dense_23/bias:0' shape=(10,) dtype=float32, numpy=\n",
       " array([-0.05933256, -0.09311402,  0.00026725,  0.10268936,  0.05864661,\n",
       "         0.02938791,  0.03371192, -0.07349139, -0.01285252, -0.02369379],\n",
       "       dtype=float32)>]"
      ]
     },
     "execution_count": 38,
     "metadata": {},
     "output_type": "execute_result"
    }
   ],
   "source": [
    "model.weights"
   ]
  },
  {
   "cell_type": "code",
   "execution_count": 34,
   "id": "6ba4bddc-9dc0-4180-90a4-533ac0d920a8",
   "metadata": {},
   "outputs": [
    {
     "name": "stdout",
     "output_type": "stream",
     "text": [
      "Epoch 1/5\n",
      "1563/1563 [==============================] - 29s 18ms/step - loss: 1.3820 - accuracy: 0.5040 - val_loss: 1.0945 - val_accuracy: 0.6151\n",
      "Epoch 2/5\n",
      "1563/1563 [==============================] - 23s 15ms/step - loss: 0.9812 - accuracy: 0.6550 - val_loss: 0.9672 - val_accuracy: 0.6594\n",
      "Epoch 3/5\n",
      "1563/1563 [==============================] - 25s 16ms/step - loss: 0.8302 - accuracy: 0.7097 - val_loss: 0.9398 - val_accuracy: 0.6801\n",
      "Epoch 4/5\n",
      "1563/1563 [==============================] - 26s 17ms/step - loss: 0.7191 - accuracy: 0.7469 - val_loss: 0.8175 - val_accuracy: 0.7126\n",
      "Epoch 5/5\n",
      "1563/1563 [==============================] - 26s 17ms/step - loss: 0.6320 - accuracy: 0.7780 - val_loss: 0.8390 - val_accuracy: 0.7172\n"
     ]
    }
   ],
   "source": [
    "# from_logits=True ==> 마지막 출력층에 activation='softmax'를 기술하지 않아서\n",
    "\n",
    "model.compile(optimizer='adam',\n",
    "              loss=tf.keras.losses.SparseCategoricalCrossentropy(from_logits=True),\n",
    "              metrics=['accuracy'])\n",
    "\n",
    "history = model.fit(train_images,   # 32,32,3\n",
    "                    train_labels,   # max   y\n",
    "                    epochs=5,  #basic_batch=32\n",
    "                    validation_data=(test_images, test_labels))\n"
   ]
  },
  {
   "cell_type": "code",
   "execution_count": 37,
   "id": "76d58ae2-c1e1-4b4c-b9b6-b67c15867c61",
   "metadata": {},
   "outputs": [
    {
     "name": "stdout",
     "output_type": "stream",
     "text": [
      "313/313 - 1s - loss: 0.8390 - accuracy: 0.7172 - 1s/epoch - 5ms/step\n"
     ]
    },
    {
     "data": {
      "image/png": "[encoded data removed]",
      "text/plain": [
       "<Figure size 640x480 with 1 Axes>"
      ]
     },
     "metadata": {},
     "output_type": "display_data"
    }
   ],
   "source": [
    "plt.plot(history.history['accuracy'], label='accuracy')\n",
    "plt.plot(history.history['val_accuracy'], label = 'val_accuracy')\n",
    "plt.xlabel('Epoch')\n",
    "plt.ylabel('Accuracy')\n",
    "plt.ylim([0.5, 1])\n",
    "plt.legend(loc='lower right')\n",
    "\n",
    "test_loss, test_acc = model.evaluate(test_images,  test_labels, verbose=2)\n"
   ]
  },
  {
   "cell_type": "code",
   "execution_count": 27,
   "id": "e6288b98-d872-4557-8050-862b695173cf",
   "metadata": {},
   "outputs": [
    {
     "data": {
      "text/plain": [
       "1562.5"
      ]
     },
     "execution_count": 27,
     "metadata": {},
     "output_type": "execute_result"
    }
   ],
   "source": [
    "## new image\n"
   ]
  },
  {
   "cell_type": "code",
   "execution_count": null,
   "id": "0f057d59-69f3-4259-8429-c0827b996b6b",
   "metadata": {},
   "outputs": [],
   "source": [
    "# report"
   ]
  },
  {
   "cell_type": "markdown",
   "id": "195a2a1e",
   "metadata": {
    "id": "195a2a1e"
   },
   "source": [
    "## [3] 티처블머신을 이용한 전이학습\n",
    "- 구글의 티처블 머신을 이용하여 학습모델을 제작함.\n",
    "- 셀럽얼굴로 남여 성별을 학습시킴(학습모델은 224,224,3), softmax 모델임\n",
    "- https://mmlab.ie.cuhk.edu.hk/projects/CelebA.html"
   ]
  },
  {
   "cell_type": "markdown",
   "id": "cf874b03",
   "metadata": {
    "id": "cf874b03"
   },
   "source": [
    "### [3-1] 티처블머신에서 제작한 모델 사용하기"
   ]
  },
  {
   "cell_type": "code",
   "execution_count": null,
   "id": "b51d071e",
   "metadata": {
    "id": "b51d071e"
   },
   "outputs": [],
   "source": [
    "import tensorflow as tf\n",
    "import numpy as np\n",
    "from PIL import Image\n",
    "import matplotlib.pyplot as plt\n",
    "from tensorflow.keras.layers import Dense, Dropout\n",
    "from tensorflow.keras.models import Model"
   ]
  },
  {
   "cell_type": "code",
   "execution_count": null,
   "id": "cd23c44e",
   "metadata": {
    "id": "cd23c44e",
    "outputId": "bcc656aa-fe2e-4475-d656-21459914b577"
   },
   "outputs": [
    {
     "name": "stdout",
     "output_type": "stream",
     "text": [
      "WARNING:tensorflow:No training configuration found in the save file, so the model was *not* compiled. Compile it manually.\n",
      "Model: \"sequential_4\"\n",
      "_________________________________________________________________\n",
      "Layer (type)                 Output Shape              Param #   \n",
      "=================================================================\n",
      "sequential_1 (Sequential)    (None, 1280)              410208    \n",
      "_________________________________________________________________\n",
      "sequential_3 (Sequential)    (None, 2)                 128300    \n",
      "=================================================================\n",
      "Total params: 538,508\n",
      "Trainable params: 524,428\n",
      "Non-trainable params: 14,080\n",
      "_________________________________________________________________\n"
     ]
    }
   ],
   "source": [
    "# 모델 로드\n",
    "# # 여자0, 남자 1로 성별 구별하는 모델 (티처블머신러닝에서 작업함)\n",
    "\n",
    "model = tf.keras.models.load_model('mF.h5')\n",
    "model.summary()"
   ]
  },
  {
   "cell_type": "code",
   "execution_count": null,
   "id": "ceaa2cd9",
   "metadata": {
    "id": "ceaa2cd9",
    "outputId": "39afe9ff-ef1e-44b1-f292-6acead479d3b"
   },
   "outputs": [
    {
     "name": "stdout",
     "output_type": "stream",
     "text": [
      "[[3.2827273e-04 9.9967170e-01]]\n"
     ]
    },
    {
     "data": {
      "text/plain": [
       "1"
      ]
     },
     "execution_count": 4,
     "metadata": {},
     "output_type": "execute_result"
    },
    {
     "data": {
      "image/png": "[encoded data removed]",
      "text/plain": [
       "<Figure size 432x288 with 1 Axes>"
      ]
     },
     "metadata": {
      "needs_background": "light"
     },
     "output_type": "display_data"
    }
   ],
   "source": [
    "# 티처블 머신에 savemodel에 코드 나와 있음\n",
    "from PIL import Image, ImageOps\n",
    "import numpy as np\n",
    "img=Image.open('img.png').convert('RGB')\n",
    "size = (224, 224)\n",
    "img = ImageOps.fit(img, size, Image.Resampling.LANCZOS)  # 이미지 보간법\n",
    "plt.imshow(img)  # # 여자0, 남자 1로 성별 구별하는 모델 (티처블머신러닝에서 작업함)\n",
    "\n",
    "img=np.array(img)\n",
    "normalized_image_array = (img.astype(np.float32) / 127.5) - 1\n",
    "normalized_image_array.shape\n",
    "data=normalized_image_array.reshape(1,224,224,3)\n",
    "prediction = model.predict(data)\n",
    "print(prediction)\n",
    "index = np.argmax(prediction)\n",
    "index  # 첫번째값이 크게 나옴"
   ]
  },
  {
   "cell_type": "code",
   "execution_count": null,
   "id": "5808c387",
   "metadata": {
    "id": "5808c387",
    "outputId": "d4bd3cf6-5437-40f1-af5d-b1c9c97ba67e"
   },
   "outputs": [
    {
     "data": {
      "text/plain": [
       "(0.9996717, '남')"
      ]
     },
     "execution_count": 5,
     "metadata": {},
     "output_type": "execute_result"
    }
   ],
   "source": [
    "class_names=['여','남']\n",
    "class_name = class_names[index]\n",
    "confidence_score = prediction[0][index]\n",
    "confidence_score,class_name"
   ]
  },
  {
   "cell_type": "markdown",
   "id": "d8a04836",
   "metadata": {
    "id": "d8a04836"
   },
   "source": [
    "### [3-2] 티처블 머신 모델 튜닝"
   ]
  },
  {
   "cell_type": "code",
   "execution_count": null,
   "id": "263c0e52",
   "metadata": {
    "id": "263c0e52",
    "outputId": "3d078853-72ff-43f0-b32f-430bc179f2a9"
   },
   "outputs": [
    {
     "name": "stdout",
     "output_type": "stream",
     "text": [
      "WARNING:tensorflow:No training configuration found in the save file, so the model was *not* compiled. Compile it manually.\n",
      "Model: \"sequential_4\"\n",
      "_________________________________________________________________\n",
      "Layer (type)                 Output Shape              Param #   \n",
      "=================================================================\n",
      "sequential_1 (Sequential)    (None, 1280)              410208    \n",
      "_________________________________________________________________\n",
      "sequential_3 (Sequential)    (None, 2)                 128300    \n",
      "=================================================================\n",
      "Total params: 538,508\n",
      "Trainable params: 524,428\n",
      "Non-trainable params: 14,080\n",
      "_________________________________________________________________\n"
     ]
    }
   ],
   "source": [
    "# 모델 로드\n",
    "# # 여자0, 남자 1로 성별 구별하는 모델 (티처블머신러닝에서 작업함)\n",
    "\n",
    "model = tf.keras.models.load_model('mF.h5')\n",
    "model.summary()"
   ]
  },
  {
   "cell_type": "markdown",
   "id": "b68c77e6",
   "metadata": {
    "id": "b68c77e6"
   },
   "source": [
    "![image.png](attachment:image.png)"
   ]
  },
  {
   "cell_type": "code",
   "execution_count": null,
   "id": "1a3c9389",
   "metadata": {
    "id": "1a3c9389",
    "outputId": "66e32a99-2f9f-444b-caf0-28be742a3f6e"
   },
   "outputs": [
    {
     "name": "stdout",
     "output_type": "stream",
     "text": [
      "0 (3, 3, 3, 16)\n",
      "1 (16,)\n",
      "2 (16,)\n",
      "3 (16,)\n",
      "4 (16,)\n"
     ]
    }
   ],
   "source": [
    "# 티처블 머신러닝의 웨이트와 레이어는 모바일넷으로 제작됨\n",
    "for layer,x in enumerate(model.weights[:5]):\n",
    "    print(layer,x.shape)"
   ]
  },
  {
   "cell_type": "code",
   "execution_count": null,
   "id": "c56eb968",
   "metadata": {
    "id": "c56eb968",
    "outputId": "bad1ec9b-dbcf-4f3c-e4f8-6f0f2dd8afe7"
   },
   "outputs": [
    {
     "name": "stdout",
     "output_type": "stream",
     "text": [
      "0 (3, 3, 3, 16)\n",
      "1 (16,)\n",
      "2 (16,)\n",
      "3 (16,)\n",
      "4 (16,)\n"
     ]
    }
   ],
   "source": [
    "# (참고) 전이학습 모바일넷 확인하기\n",
    "# https://ariz1623.tistory.com/300\n",
    "# https://www.tensorflow.org/api_docs/python/tf/keras/applications/MobileNetV3Small\n",
    "IMG_SHAPE=(224,224,3)\n",
    "base_model = tf.keras.applications.MobileNetV3Small(input_shape=IMG_SHAPE,\n",
    "                                               include_top=True,\n",
    "                                               weights='imagenet')\n",
    "for layer,x in enumerate(base_model.weights[:5]):\n",
    "    print(layer,x.shape)"
   ]
  },
  {
   "cell_type": "code",
   "execution_count": null,
   "id": "e6e5a66a",
   "metadata": {
    "id": "e6e5a66a",
    "outputId": "b692d2f6-5f98-4dd0-fd2a-5ed446e87c72"
   },
   "outputs": [
    {
     "data": {
      "text/plain": [
       "[<keras.engine.sequential.Sequential at 0x261b556c550>]"
      ]
     },
     "execution_count": 11,
     "metadata": {},
     "output_type": "execute_result"
    }
   ],
   "source": [
    "model.layers[:-1]"
   ]
  },
  {
   "cell_type": "code",
   "execution_count": null,
   "id": "867d9957",
   "metadata": {
    "id": "867d9957"
   },
   "outputs": [],
   "source": [
    "### 꽃사진을 이용하여서 모델을 제작하고자함.\n",
    "# https://www.tensorflow.org/tutorials/images/classification?hl=ko\n",
    "\n",
    "import pathlib\n",
    "dataset_url = \"https://storage.googleapis.com/download.tensorflow.org/example_images/flower_photos.tgz\"\n",
    "data_dir = tf.keras.utils.get_file('flower_photos', origin=dataset_url, untar=True)\n",
    "data_dir = pathlib.Path(data_dir)"
   ]
  },
  {
   "cell_type": "code",
   "execution_count": null,
   "id": "140fdb7e",
   "metadata": {
    "id": "140fdb7e"
   },
   "outputs": [],
   "source": [
    "batch_size = 32\n",
    "img_height = 224\n",
    "img_width = 224"
   ]
  },
  {
   "cell_type": "code",
   "execution_count": null,
   "id": "61ca797e",
   "metadata": {
    "id": "61ca797e",
    "outputId": "4bbdaaa6-7603-462b-ee5b-d23b627efd2f"
   },
   "outputs": [
    {
     "name": "stdout",
     "output_type": "stream",
     "text": [
      "Found 3670 files belonging to 5 classes.\n",
      "Using 2936 files for training.\n"
     ]
    }
   ],
   "source": [
    "train_ds = tf.keras.utils.image_dataset_from_directory(\n",
    "  data_dir,\n",
    "  validation_split=0.2,\n",
    "  subset=\"training\",\n",
    "  seed=123,\n",
    "  image_size=(img_height, img_width),\n",
    "  batch_size=batch_size)"
   ]
  },
  {
   "cell_type": "code",
   "execution_count": null,
   "id": "65deb607",
   "metadata": {
    "id": "65deb607",
    "outputId": "efa97cda-b59a-431f-86cc-1f4a2d10a4dd"
   },
   "outputs": [
    {
     "name": "stdout",
     "output_type": "stream",
     "text": [
      "Found 3670 files belonging to 5 classes.\n",
      "Using 734 files for validation.\n"
     ]
    }
   ],
   "source": [
    "val_ds = tf.keras.utils.image_dataset_from_directory(\n",
    "  data_dir,\n",
    "  validation_split=0.2,\n",
    "  subset=\"validation\",\n",
    "  seed=123,\n",
    "  image_size=(img_height, img_width),\n",
    "  batch_size=batch_size)"
   ]
  },
  {
   "cell_type": "code",
   "execution_count": null,
   "id": "76b91f2a",
   "metadata": {
    "id": "76b91f2a"
   },
   "outputs": [],
   "source": [
    "#성능높이기\n",
    "AUTOTUNE = tf.data.AUTOTUNE\n",
    "\n",
    "train_ds = train_ds.cache().shuffle(1000).prefetch(buffer_size=AUTOTUNE)\n",
    "val_ds = val_ds.cache().prefetch(buffer_size=AUTOTUNE)\n"
   ]
  },
  {
   "cell_type": "code",
   "execution_count": null,
   "id": "daaa4429",
   "metadata": {
    "id": "daaa4429"
   },
   "outputs": [],
   "source": [
    "calss_names=['daisy', 'dandelion', 'roses', 'sunflowers', 'tulips']"
   ]
  },
  {
   "cell_type": "markdown",
   "id": "7bc2e924",
   "metadata": {
    "id": "7bc2e924"
   },
   "source": [
    "![image-3.png](attachment:image-3.png)"
   ]
  },
  {
   "cell_type": "markdown",
   "id": "6825fa64",
   "metadata": {
    "id": "6825fa64"
   },
   "source": [
    "###--> 기존 모델의  마지막부부분까지 고정(위치는 사용자가 정할수 있음)\n"
   ]
  },
  {
   "cell_type": "code",
   "execution_count": null,
   "id": "f905f1aa",
   "metadata": {
    "id": "f905f1aa"
   },
   "outputs": [],
   "source": [
    "from tensorflow import keras\n",
    "from tensorflow.keras import layers,Sequential\n",
    "\n",
    "base_model = tf.keras.models.load_model('mF.h5',compile=False)\n",
    "for layer in base_model.layers:\n",
    "    layer.trainable = False"
   ]
  },
  {
   "cell_type": "code",
   "execution_count": null,
   "id": "ba017863-7a19-44a3-9d22-60f968fa12f2",
   "metadata": {},
   "outputs": [],
   "source": []
  },
  {
   "cell_type": "code",
   "execution_count": null,
   "id": "e49729c6",
   "metadata": {
    "id": "e49729c6",
    "outputId": "03f1d6c4-af5d-4daa-8f02-54e192a9cc15"
   },
   "outputs": [
    {
     "name": "stdout",
     "output_type": "stream",
     "text": [
      "Epoch 1/10\n",
      "92/92 [==============================] - 28s 262ms/step - loss: 1.5999 - accuracy: 0.2452 - val_loss: 1.5898 - val_accuracy: 0.2330\n",
      "Epoch 2/10\n",
      "92/92 [==============================] - 63s 685ms/step - loss: 1.5958 - accuracy: 0.2381 - val_loss: 1.5906 - val_accuracy: 0.2534\n",
      "Epoch 3/10\n",
      "92/92 [==============================] - 59s 647ms/step - loss: 1.5941 - accuracy: 0.2466 - val_loss: 1.5857 - val_accuracy: 0.2657\n",
      "Epoch 4/10\n",
      "92/92 [==============================] - 46s 503ms/step - loss: 1.5935 - accuracy: 0.2493 - val_loss: 1.5850 - val_accuracy: 0.2643\n",
      "Epoch 5/10\n",
      "92/92 [==============================] - 48s 525ms/step - loss: 1.5930 - accuracy: 0.2510 - val_loss: 1.5831 - val_accuracy: 0.2575\n",
      "Epoch 6/10\n",
      "92/92 [==============================] - 43s 466ms/step - loss: 1.5931 - accuracy: 0.2510 - val_loss: 1.5820 - val_accuracy: 0.2398\n",
      "Epoch 7/10\n",
      "92/92 [==============================] - 53s 572ms/step - loss: 1.5934 - accuracy: 0.2544 - val_loss: 1.5845 - val_accuracy: 0.2561\n",
      "Epoch 8/10\n",
      "92/92 [==============================] - 56s 607ms/step - loss: 1.5926 - accuracy: 0.2500 - val_loss: 1.5805 - val_accuracy: 0.2657\n",
      "Epoch 9/10\n",
      "92/92 [==============================] - 59s 640ms/step - loss: 1.5928 - accuracy: 0.2558 - val_loss: 1.5807 - val_accuracy: 0.2657\n",
      "Epoch 10/10\n",
      "92/92 [==============================] - 62s 672ms/step - loss: 1.5928 - accuracy: 0.2561 - val_loss: 1.5805 - val_accuracy: 0.2629\n"
     ]
    }
   ],
   "source": [
    "x=base_model.output\n",
    "x=layers.Dense(256,activation='relu')(x)\n",
    "x=layers.Dense(64,activation='relu')(x)\n",
    "predictions=layers.Dense(5)(x)\n",
    "model=keras.Model(inputs=base_model.input,outputs=predictions)\n",
    "\n",
    "optimizer = keras.optimizers.Adam()\n",
    "model.compile(optimizer=optimizer,\n",
    "              loss=tf.keras.losses.SparseCategoricalCrossentropy(from_logits=True),\n",
    "              metrics=['accuracy'])\n",
    "\n",
    "epochs=10\n",
    "history = model.fit(\n",
    "  train_ds,\n",
    "  validation_data=val_ds,\n",
    "  epochs=epochs\n",
    ")"
   ]
  },
  {
   "cell_type": "markdown",
   "id": "8f3f185d",
   "metadata": {
    "id": "8f3f185d"
   },
   "source": [
    "### [4] 차트작성 및 체크포인트 저장하기\n",
    "- [방법1] 에포크단위로 저장\n",
    "- [방법2] 성능이 일정량 좋아지지 않으면 빠른 중단"
   ]
  },
  {
   "cell_type": "code",
   "execution_count": null,
   "id": "6e5f3480",
   "metadata": {
    "id": "6e5f3480",
    "outputId": "fe4982be-c255-4c18-9f08-e49bdc6b2a51"
   },
   "outputs": [
    {
     "name": "stdout",
     "output_type": "stream",
     "text": [
      "<class 'dict'>\n",
      "dict_keys(['loss', 'accuracy', 'val_loss', 'val_accuracy'])\n"
     ]
    },
    {
     "data": {
      "text/plain": [
       "<matplotlib.legend.Legend at 0x261ba225700>"
      ]
     },
     "execution_count": 114,
     "metadata": {},
     "output_type": "execute_result"
    },
    {
     "data": {
      "image/png": "[encoded data removed]",
      "text/plain": [
       "<Figure size 432x288 with 1 Axes>"
      ]
     },
     "metadata": {
      "needs_background": "light"
     },
     "output_type": "display_data"
    }
   ],
   "source": [
    "## 모델의 히스토리는 딕셔너리 구조로 되어 있음.\n",
    "hist=history.history\n",
    "print(type(hist))\n",
    "print(hist.keys())\n",
    "\n",
    "plt.plot(hist['loss'], 'b',label='loss')\n",
    "plt.plot(hist['val_loss'],'r',label='val_loss')\n",
    "plt.plot(hist['accuracy'],'--b',label='acc')\n",
    "plt.plot(hist['val_accuracy'],'--r',label='val_acc')\n",
    "plt.legend(loc='upper right')"
   ]
  },
  {
   "cell_type": "code",
   "execution_count": null,
   "id": "fe61a660",
   "metadata": {
    "id": "fe61a660",
    "outputId": "e8097001-93ea-49e8-c976-4824a600986e"
   },
   "outputs": [
    {
     "name": "stdout",
     "output_type": "stream",
     "text": [
      "\n",
      "Epoch 00001: saving model to ./data/model/all\\01-0.2643.hdf5\n"
     ]
    },
    {
     "name": "stderr",
     "output_type": "stream",
     "text": [
      "C:\\Users\\hrPark\\miniconda3\\lib\\site-packages\\keras\\utils\\generic_utils.py:494: CustomMaskWarning: Custom mask layers require a config and must override get_config. When loading, the custom mask layer must be passed to the custom_objects argument.\n",
      "  warnings.warn('Custom mask layers require a config and must override '\n"
     ]
    },
    {
     "name": "stdout",
     "output_type": "stream",
     "text": [
      "\n",
      "Epoch 00002: saving model to ./data/model/all\\02-0.2629.hdf5\n",
      "\n",
      "Epoch 00003: saving model to ./data/model/all\\03-0.2643.hdf5\n"
     ]
    }
   ],
   "source": [
    "# 모델 저장의 조건을 설정합니다.\n",
    "\n",
    "from tensorflow.keras.callbacks import ModelCheckpoint\n",
    "\n",
    "# 폴더를 자동으로 만들면서 h5형태로 저장됨\n",
    "modelpath=\"./data/model/all/{epoch:02d}-{val_accuracy:.4f}.hdf5\"\n",
    "checkpointer = ModelCheckpoint(filepath=modelpath, verbose=1)\n",
    "\n",
    "# 모델을 실행합니다.\n",
    "epochs=3\n",
    "history = model.fit(\n",
    "  train_ds,\n",
    "  validation_data=val_ds,\n",
    "  epochs=epochs,\n",
    "  verbose=0, callbacks=[checkpointer])"
   ]
  },
  {
   "cell_type": "code",
   "execution_count": null,
   "id": "e451e077",
   "metadata": {
    "id": "e451e077"
   },
   "outputs": [],
   "source": [
    "\n",
    "# 학습이 언제 자동 중단 될지를 설정합니다. patience 설정값 검색하여 보세요.\n",
    "from tensorflow.keras.callbacks import ModelCheckpoint, EarlyStopping\n",
    "\n",
    "early_stopping_callback = EarlyStopping(monitor='val_loss', patience=2)\n",
    "\n",
    "#최적화 모델이 저장될 폴더와 모델의 이름을 정합니다.\n",
    "modelpath=\"./data/model/Ch14-4-bestmodel.hdf5\"\n",
    "\n",
    "# 최적화 모델을 업데이트하고 저장합니다.\n",
    "checkpointer = ModelCheckpoint(filepath=modelpath, monitor='val_loss', verbose=0, save_best_only=True)\n",
    "\n",
    "#모델을 실행합니다.\n",
    "\n",
    "epochs=3\n",
    "history = model.fit(\n",
    "  train_ds,\n",
    "  validation_data=val_ds,\n",
    "  epochs=epochs,\n",
    "  verbose=0,\n",
    " callbacks=[early_stopping_callback,checkpointer])\n",
    "\n"
   ]
  },
  {
   "cell_type": "code",
   "execution_count": null,
   "id": "a1083230",
   "metadata": {
    "id": "a1083230"
   },
   "outputs": [],
   "source": [
    "## 구글에서 'hdf5와 h5의 차이점' 검색하여 보세요"
   ]
  }
 ],
 "metadata": {
  "colab": {
   "provenance": []
  },
  "kernelspec": {
   "display_name": "Python 3 (ipykernel)",
   "language": "python",
   "name": "python3"
  },
  "language_info": {
   "codemirror_mode": {
    "name": "ipython",
    "version": 3
   },
   "file_extension": ".py",
   "mimetype": "text/x-python",
   "name": "python",
   "nbconvert_exporter": "python",
   "pygments_lexer": "ipython3",
   "version": "3.8.13"
  }
 },
 "nbformat": 4,
 "nbformat_minor": 5
}
