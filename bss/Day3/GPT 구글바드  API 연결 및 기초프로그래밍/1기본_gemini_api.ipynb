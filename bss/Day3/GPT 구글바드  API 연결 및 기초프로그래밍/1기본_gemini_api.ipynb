{
 "cells": [
  {
   "cell_type": "markdown",
   "id": "8e9ed572-b060-4de7-b572-7eb045fe8db0",
   "metadata": {},
   "source": [
    "# Gemini API 자연어 호출 사용하기"
   ]
  },
  {
   "cell_type": "markdown",
   "id": "a1d1fac5-a494-460e-a6a0-e135580d4531",
   "metadata": {
    "id": "wFNV1e3ASJha"
   },
   "source": [
    "### Install the Python SDK"
   ]
  },
  {
   "cell_type": "code",
   "execution_count": 1,
   "id": "9e26faa6-476f-4ed1-80d0-ef364b929e3f",
   "metadata": {
    "id": "9OEoeosRTv-5"
   },
   "outputs": [],
   "source": [
    "!pip install -q -U google-generativeai"
   ]
  },
  {
   "cell_type": "markdown",
   "id": "bd1ad506-31b1-4601-b1ee-f73f31865a3d",
   "metadata": {
    "id": "KCFF5VSTbcAR"
   },
   "source": [
    "### Import packages & Helpers"
   ]
  },
  {
   "cell_type": "code",
   "execution_count": 2,
   "id": "b368e896-384c-47f5-bc1a-164e55a2f367",
   "metadata": {
    "id": "TS9l5igubpHO"
   },
   "outputs": [],
   "source": [
    "import pathlib\n",
    "import textwrap\n",
    "\n",
    "import google.generativeai as genai\n",
    "\n",
    "from IPython.display import display\n",
    "from IPython.display import Markdown\n",
    "\n",
    "# Helpers\n",
    "def to_markdown(text):\n",
    "  text = text.replace('•', '  *')\n",
    "  return Markdown(textwrap.indent(text, '> ', predicate=lambda _: True))"
   ]
  },
  {
   "cell_type": "markdown",
   "id": "7be39877-ae0c-4e2c-9f1e-55739f1c3334",
   "metadata": {
    "id": "gHYFrFPjSGNq"
   },
   "source": [
    "### Setup your API key\n",
    "\n",
    "<a class=\"button button-primary\" href=\"https://makersuite.google.com/app/apikey\" target=\"_blank\" rel=\"noopener noreferrer\">Get an API key</a>\n"
   ]
  },
  {
   "cell_type": "markdown",
   "id": "d0931946-5d73-40ff-a94d-9c1e249870f5",
   "metadata": {
    "id": "VmSlTHXxb5pV"
   },
   "source": [
    "GEMINI API를 설정하는 방법은 두가지가 있습니다.\n",
    "\n",
    "* `GOOGLE_API_KEY` 환경변수에 API KEY 등록하기\n",
    "* `genai.configure(api_key=...)`를 통해 API KEY 등록하기\n"
   ]
  },
  {
   "cell_type": "code",
   "execution_count": null,
   "id": "eaa9e578-031c-4a9d-ba51-9456db131247",
   "metadata": {
    "id": "ab9ASynfcIZn"
   },
   "outputs": [],
   "source": [
    "# Or use `os.getenv('GOOGLE_API_KEY')` to fetch an environment variable.\n",
    "# GOOGLE_API_KEY=\"<YOUR GOOGLE API KEY>\"\n",
    "# genai.configure(api_key=GOOGLE_API_KEY)"
   ]
  },
  {
   "cell_type": "markdown",
   "id": "46235c94-52ab-4ed8-a5fa-2e81152937ac",
   "metadata": {
    "id": "8ssbTMNVSMd-"
   },
   "source": [
    "## List models\n",
    "\n",
    "`list_models`를 사용하여 사용 가능한 제미니 모델을 확인 할 수 있습니다\n",
    "\n",
    "- `gemini-pro`: 텍스트 전용 프롬프트에 최적화됨.\n",
    "- `gemini-pro-vision`: 텍스트와 이미지 프롬프트에 최적화됨."
   ]
  },
  {
   "cell_type": "code",
   "execution_count": 3,
   "id": "1479783f-65dd-4566-9af1-6e8832e36f28",
   "metadata": {
    "id": "QvvWFy08e5c5"
   },
   "outputs": [
    {
     "name": "stdout",
     "output_type": "stream",
     "text": [
      "models/gemini-pro\n",
      "models/gemini-pro-vision\n"
     ]
    }
   ],
   "source": [
    "for m in genai.list_models():\n",
    "  if 'generateContent' in m.supported_generation_methods:\n",
    "    print(m.name)"
   ]
  },
  {
   "cell_type": "markdown",
   "id": "f4515596-a145-48d2-a1cc-5c7497519dc7",
   "metadata": {
    "id": "FTl5NjtrhA0J"
   },
   "source": [
    "Note: 가능한 모델이나 rate limit은 [Gemini models](https://ai.google.dev/models/gemini)를 참조하세요. [rate limit increases](https://ai.google.dev/docs/increase_quota).에서 약식을 작성하면 rate limit 상향이 가능합니다."
   ]
  },
  {
   "cell_type": "markdown",
   "id": "0bd0a6f0-9d8b-4cc5-96c9-8e9f4dd4da80",
   "metadata": {
    "id": "LZfoK3I3hu6V"
   },
   "source": [
    "## 텍스트 생성하기\n"
   ]
  },
  {
   "cell_type": "code",
   "execution_count": 4,
   "id": "f01ca553-c492-4f5e-8fec-03a00e3faffa",
   "metadata": {
    "id": "2bcfnGEviwTI"
   },
   "outputs": [],
   "source": [
    "model = genai.GenerativeModel('gemini-pro')"
   ]
  },
  {
   "cell_type": "code",
   "execution_count": 5,
   "id": "8db6fc46-5381-4289-9efe-a4ae27249495",
   "metadata": {
    "id": "he-OfzBbhACQ",
    "outputId": "3f3c93a9-136f-4952-b56f-a898f934550c"
   },
   "outputs": [
    {
     "name": "stdout",
     "output_type": "stream",
     "text": [
      "CPU times: user 10.3 ms, sys: 7.96 ms, total: 18.3 ms\n",
      "Wall time: 8.41 s\n"
     ]
    }
   ],
   "source": [
    "%%time\n",
    "response = model.generate_content(\"인생의 의미가 뭐야?\")"
   ]
  },
  {
   "cell_type": "markdown",
   "id": "d55cac95-d385-48af-bfb2-ad4cfcf4c7d4",
   "metadata": {
    "id": "FbrR-n_qlpFd"
   },
   "source": [
    "In simple cases, the `response.text` accessor is all you need. To display formatted Markdown text, use the `to_markdown` function:"
   ]
  },
  {
   "cell_type": "code",
   "execution_count": 7,
   "id": "addadd54-76de-4172-97dc-d34820cf6e3d",
   "metadata": {},
   "outputs": [
    {
     "data": {
      "text/plain": [
       "<google.generativeai.types.generation_types.GenerateContentResponse at 0x10427ab90>"
      ]
     },
     "execution_count": 7,
     "metadata": {},
     "output_type": "execute_result"
    }
   ],
   "source": [
    "response"
   ]
  },
  {
   "cell_type": "code",
   "execution_count": 8,
   "id": "3eea255f-b963-4cb3-83ce-7b88098a07e1",
   "metadata": {},
   "outputs": [
    {
     "data": {
      "text/plain": [
       "'* **다른 사람을 돕기:** 자원 봉사를 하거나 사랑하는 사람을 돌보거나 단순히 친절한 말을 하는 것과 같이 다른 사람을 돕는 것에서 의미를 찾을 수 있습니다.\\n* **배움:** 새로운 것을 배우는 것은 당신의 마음을 활발하게 하고 당신의 세계에 대한 당신의 이해를 넓힐 수 있습니다. 이것은 책을 읽거나 수업을 듣거나 새로운 취미를 시도하거나 단순히 세상을 탐험하여 수행할 수 있습니다.\\n* **สร้าง하기:** 예술 작품을 만들거나 기업을 시작하거나 심지어 아이를 양육하는 것과 같이 무언가를 만드는 것에서 의미를 찾을 수 있습니다.\\n* **연결하기:** 가족과 친구와 시간을 보내거나 새로운 사람들을 만나거나 커뮤니티에 참여하는 것과 같이 다른 사람들과 연결하는 것에서 의미를 찾을 수 있습니다.\\n* **감사하기:** 당신이 가진 것을 감사하는 것은 당신의 삶에 대한 새로운 관점을 주고 더 큰 의미감을 느낄 수 있도록 도울 수 있습니다. 이것은 일기를 쓰거나 명상을 하거나 단순히 매일 몇 분 동안 침묵 속에 앉아 당신의 삶에 대해 생각하는 것과 같이 수행할 수 있습니다.\\n* **현재에 살기:** 과거를 걱정하거나 미래를 걱정하는 대신 현재 순간에 집중하면 더 충만한 삶을 살 수 있습니다. 이것은 명상을 하거나 요가를 하거나 자연 속에서 시간을 보내거나 단순히 숨을 쉬고 당신의 주변 세계를 관찰하는 것과 같이 수행할 수 있습니다.\\n\\n인생의 의미는 보편적인 것이 아니라는 점을 기억하는 것이 중요합니다. 모든 사람에게 효과가 있는 단 하나의 정답은 없습니다. 당신에게 맞는 의미를 찾는 것은 당신 자신에게 달려 있습니다.'"
      ]
     },
     "execution_count": 8,
     "metadata": {},
     "output_type": "execute_result"
    }
   ],
   "source": [
    "response.text"
   ]
  },
  {
   "cell_type": "code",
   "execution_count": 9,
   "id": "4e04646c-4111-4561-9e76-1977565afdc4",
   "metadata": {
    "id": "G-zBkueElVEO",
    "outputId": "3e521cc5-09b2-4368-d3b9-61b7aef02be4"
   },
   "outputs": [
    {
     "data": {
      "text/markdown": [
       "> * **다른 사람을 돕기:** 자원 봉사를 하거나 사랑하는 사람을 돌보거나 단순히 친절한 말을 하는 것과 같이 다른 사람을 돕는 것에서 의미를 찾을 수 있습니다.\n",
       "> * **배움:** 새로운 것을 배우는 것은 당신의 마음을 활발하게 하고 당신의 세계에 대한 당신의 이해를 넓힐 수 있습니다. 이것은 책을 읽거나 수업을 듣거나 새로운 취미를 시도하거나 단순히 세상을 탐험하여 수행할 수 있습니다.\n",
       "> * **สร้าง하기:** 예술 작품을 만들거나 기업을 시작하거나 심지어 아이를 양육하는 것과 같이 무언가를 만드는 것에서 의미를 찾을 수 있습니다.\n",
       "> * **연결하기:** 가족과 친구와 시간을 보내거나 새로운 사람들을 만나거나 커뮤니티에 참여하는 것과 같이 다른 사람들과 연결하는 것에서 의미를 찾을 수 있습니다.\n",
       "> * **감사하기:** 당신이 가진 것을 감사하는 것은 당신의 삶에 대한 새로운 관점을 주고 더 큰 의미감을 느낄 수 있도록 도울 수 있습니다. 이것은 일기를 쓰거나 명상을 하거나 단순히 매일 몇 분 동안 침묵 속에 앉아 당신의 삶에 대해 생각하는 것과 같이 수행할 수 있습니다.\n",
       "> * **현재에 살기:** 과거를 걱정하거나 미래를 걱정하는 대신 현재 순간에 집중하면 더 충만한 삶을 살 수 있습니다. 이것은 명상을 하거나 요가를 하거나 자연 속에서 시간을 보내거나 단순히 숨을 쉬고 당신의 주변 세계를 관찰하는 것과 같이 수행할 수 있습니다.\n",
       "> \n",
       "> 인생의 의미는 보편적인 것이 아니라는 점을 기억하는 것이 중요합니다. 모든 사람에게 효과가 있는 단 하나의 정답은 없습니다. 당신에게 맞는 의미를 찾는 것은 당신 자신에게 달려 있습니다."
      ],
      "text/plain": [
       "<IPython.core.display.Markdown object>"
      ]
     },
     "execution_count": 9,
     "metadata": {},
     "output_type": "execute_result"
    }
   ],
   "source": [
    "to_markdown(response.text)"
   ]
  },
  {
   "cell_type": "markdown",
   "id": "b56b858c-ce38-4751-99dc-0ba9c10a7c50",
   "metadata": {
    "id": "UZPpoKMQoru8"
   },
   "source": [
    "만약 API가 실패한다면 `GenerateContentRespose.prompt_feedback`을 보면 Gemini의 어떤 정책을 어겻는지 확인 할 수 있습니다."
   ]
  },
  {
   "cell_type": "code",
   "execution_count": 10,
   "id": "8cfe648e-697a-4598-9d05-9735feb7c5ea",
   "metadata": {
    "id": "eIQdU8AGoraT",
    "outputId": "169ad02f-04d0-405c-f4bf-9d040dec4581"
   },
   "outputs": [
    {
     "data": {
      "text/plain": [
       "safety_ratings {\n",
       "  category: HARM_CATEGORY_SEXUALLY_EXPLICIT\n",
       "  probability: NEGLIGIBLE\n",
       "}\n",
       "safety_ratings {\n",
       "  category: HARM_CATEGORY_HATE_SPEECH\n",
       "  probability: NEGLIGIBLE\n",
       "}\n",
       "safety_ratings {\n",
       "  category: HARM_CATEGORY_HARASSMENT\n",
       "  probability: NEGLIGIBLE\n",
       "}\n",
       "safety_ratings {\n",
       "  category: HARM_CATEGORY_DANGEROUS_CONTENT\n",
       "  probability: NEGLIGIBLE\n",
       "}"
      ]
     },
     "execution_count": 10,
     "metadata": {},
     "output_type": "execute_result"
    }
   ],
   "source": [
    "response.prompt_feedback"
   ]
  },
  {
   "cell_type": "markdown",
   "id": "a67a56bc-1edf-4101-9264-ef01bb468640",
   "metadata": {
    "id": "BEJupEDUo6Xj"
   },
   "source": [
    "Gemini는 하나의 프롬프트에 대해 여러 개의 가능한 응답을 생성할 수 있습니다. 이러한 가능한 응답을 `candidates`라고 하며, 이를 검토하여 가장 적합한 응답을 선택할 수 있습니다.\n",
    "\n",
    "`GenerateContentResponse.candidates`로 응답 후보를 볼 수 있습니다:"
   ]
  },
  {
   "cell_type": "code",
   "execution_count": 11,
   "id": "05283ed4-b984-4b57-90b9-1c0acef0ce01",
   "metadata": {
    "id": "QoGYz-I7o5wF",
    "outputId": "7ce8cc95-0726-40aa-8feb-693481022120"
   },
   "outputs": [
    {
     "data": {
      "text/plain": [
       "[index: 0\n",
       "content {\n",
       "  parts {\n",
       "    text: \"* **다른 사람을 돕기:** 자원 봉사를 하거나 사랑하는 사람을 돌보거나 단순히 친절한 말을 하는 것과 같이 다른 사람을 돕는 것에서 의미를 찾을 수 있습니다.\\n* **배움:** 새로운 것을 배우는 것은 당신의 마음을 활발하게 하고 당신의 세계에 대한 당신의 이해를 넓힐 수 있습니다. 이것은 책을 읽거나 수업을 듣거나 새로운 취미를 시도하거나 단순히 세상을 탐험하여 수행할 수 있습니다.\\n* **สร้าง하기:** 예술 작품을 만들거나 기업을 시작하거나 심지어 아이를 양육하는 것과 같이 무언가를 만드는 것에서 의미를 찾을 수 있습니다.\\n* **연결하기:** 가족과 친구와 시간을 보내거나 새로운 사람들을 만나거나 커뮤니티에 참여하는 것과 같이 다른 사람들과 연결하는 것에서 의미를 찾을 수 있습니다.\\n* **감사하기:** 당신이 가진 것을 감사하는 것은 당신의 삶에 대한 새로운 관점을 주고 더 큰 의미감을 느낄 수 있도록 도울 수 있습니다. 이것은 일기를 쓰거나 명상을 하거나 단순히 매일 몇 분 동안 침묵 속에 앉아 당신의 삶에 대해 생각하는 것과 같이 수행할 수 있습니다.\\n* **현재에 살기:** 과거를 걱정하거나 미래를 걱정하는 대신 현재 순간에 집중하면 더 충만한 삶을 살 수 있습니다. 이것은 명상을 하거나 요가를 하거나 자연 속에서 시간을 보내거나 단순히 숨을 쉬고 당신의 주변 세계를 관찰하는 것과 같이 수행할 수 있습니다.\\n\\n인생의 의미는 보편적인 것이 아니라는 점을 기억하는 것이 중요합니다. 모든 사람에게 효과가 있는 단 하나의 정답은 없습니다. 당신에게 맞는 의미를 찾는 것은 당신 자신에게 달려 있습니다.\"\n",
       "  }\n",
       "  role: \"model\"\n",
       "}\n",
       "finish_reason: STOP\n",
       "safety_ratings {\n",
       "  category: HARM_CATEGORY_SEXUALLY_EXPLICIT\n",
       "  probability: NEGLIGIBLE\n",
       "}\n",
       "safety_ratings {\n",
       "  category: HARM_CATEGORY_HATE_SPEECH\n",
       "  probability: NEGLIGIBLE\n",
       "}\n",
       "safety_ratings {\n",
       "  category: HARM_CATEGORY_HARASSMENT\n",
       "  probability: NEGLIGIBLE\n",
       "}\n",
       "safety_ratings {\n",
       "  category: HARM_CATEGORY_DANGEROUS_CONTENT\n",
       "  probability: NEGLIGIBLE\n",
       "}\n",
       "]"
      ]
     },
     "execution_count": 11,
     "metadata": {},
     "output_type": "execute_result"
    }
   ],
   "source": [
    "response.candidates"
   ]
  },
  {
   "cell_type": "markdown",
   "id": "26ca8189-772e-4d22-b37e-2e2f8b9c3435",
   "metadata": {},
   "source": [
    "## Generation Config"
   ]
  },
  {
   "cell_type": "code",
   "execution_count": 18,
   "id": "fc04a9c5-73c6-4743-bc93-2e4e63e58f4d",
   "metadata": {},
   "outputs": [],
   "source": [
    "# Set up the model\n",
    "generation_config = {\n",
    "  \"temperature\": 0.9,\n",
    "  \"max_output_tokens\": 512,\n",
    "}"
   ]
  },
  {
   "cell_type": "code",
   "execution_count": 19,
   "id": "ea8d5eb8-c697-42c3-bd6e-204fcd2b1e6b",
   "metadata": {},
   "outputs": [
    {
     "name": "stdout",
     "output_type": "stream",
     "text": [
      "CPU times: user 5.63 ms, sys: 5.68 ms, total: 11.3 ms\n",
      "Wall time: 9.66 s\n"
     ]
    }
   ],
   "source": [
    "%%time\n",
    "response = model.generate_content(\"인생의 의미가 뭐야?\", generation_config=generation_config)"
   ]
  },
  {
   "cell_type": "code",
   "execution_count": 20,
   "id": "a93312a5-75b4-413f-9929-396a32d63891",
   "metadata": {},
   "outputs": [
    {
     "data": {
      "text/markdown": [
       "> 1. **자신의 행복과 이익 추구:** 자신에게 기쁨과 만족을 주는 활동에 참여하여 행복을 추구할 수 있습니다. 이는 여행, 취미, 인간관계 등 다양한 분야에서 이루어질 수 있습니다. 또한 자신의 이익을 챙기며 성공을 이루는 것도 인생의 의미로 볼 수 있습니다.\n",
       "> 2. **타인의 행복과 이익 추구:** 다른 사람들을 돕고 그들의 행복을 위해 노력하는 것은 인생의 의미로 볼 수 있습니다. 자원봉사, 기부, 친절한 행동 등을 통해 타인의 삶에 긍정적인 영향을 미칠 수 있습니다.\n",
       "> 3. **자기계발과 성장:** 새로운 것을 배우고 자신의 지식과 기술을 향상시키며 성장하는 것은 인생의 의미로 볼 수 있습니다. 이는 독서, 여행, 새로운 경험 등을 통해 이루어질 수 있습니다. 또한 자신의 약점을 극복하고 강점을 키우는 것도 자기계발의 일부입니다.\n",
       "> 4. **세상에 공헌하기:** 사회에 긍정적인 영향을 미치고 세상을 더 나은 곳으로 만들기 위해 노력하는 것은 인생의 의미로 볼 수 있습니다. 이는 환경 보호, 사회 정의 증진, 교육 개혁 등 다양한 분야에서 이루어질 수 있습니다.\n",
       "> 5. **존재 자체를 즐기기:** 이 세상에 존재하는 것 자체를 즐기고 감사하는 것은 인생의 의미로 볼 수 있습니다. 자연의 아름다움을 감상하거나 사랑하는 사람들과 시간을 보내는 등 단순한 일들을 즐기는 것도 인생의 의미를 찾는 데 도움이 될 수 있습니다.\n",
       "> \n",
       "> 인생의 의미는 각 개인이 스스로 찾아야 하는 것이며, 한 사람한 사람마다 다른 의미를 가질 수 있습니다. 그러나 위에서 언급한 것과 같은 일반적인 인생의 의미들은 많은 사람들에게 공감을 불러일으킬 수 있습니다."
      ],
      "text/plain": [
       "<IPython.core.display.Markdown object>"
      ]
     },
     "execution_count": 20,
     "metadata": {},
     "output_type": "execute_result"
    }
   ],
   "source": [
    "to_markdown(response.text)"
   ]
  },
  {
   "cell_type": "markdown",
   "id": "fd85f6d7-e4e4-4239-a1f6-065407f4a968",
   "metadata": {},
   "source": [
    "## Streaming"
   ]
  },
  {
   "cell_type": "markdown",
   "id": "23226589-aeda-470f-ad1d-c51c6637c091",
   "metadata": {
    "id": "EJrwllLnHlBb"
   },
   "source": [
    "기본적으로 모델은 전체 생성 프로세스를 완료한 후 응답을 반환합니다. 또한 응답이 생성되는 동안 응답을 스트리밍할 수 있으며, 모델은 응답이 생성되는 즉시 청크를 반환합니다.\n",
    "\n",
    "응답을 스트리밍하려면 `GenerativeModel.generate_content(..., stream=True)`를 사용합니다."
   ]
  },
  {
   "cell_type": "code",
   "execution_count": 21,
   "id": "71503a3b-1cde-4bc3-bc5f-cb6c92c14770",
   "metadata": {
    "id": "Z7n59b3hHo6-",
    "outputId": "68af1dd2-33ad-4b87-c036-8ac539072f4f"
   },
   "outputs": [
    {
     "name": "stdout",
     "output_type": "stream",
     "text": [
      "CPU times: user 4 ms, sys: 3.61 ms, total: 7.61 ms\n",
      "Wall time: 1.33 s\n"
     ]
    }
   ],
   "source": [
    "%%time\n",
    "response = model.generate_content(\"인생의 의미가 뭐야?\", stream=True)"
   ]
  },
  {
   "cell_type": "code",
   "execution_count": 22,
   "id": "ecb9a329-c570-405f-8d74-023df90b2391",
   "metadata": {
    "id": "2jt0d0GCIUhg",
    "outputId": "e3ebbbe7-2604-4cde-f0ce-3e56ed45b8bd"
   },
   "outputs": [
    {
     "name": "stdout",
     "output_type": "stream",
     "text": [
      "* **자기 계발:** 일부 사람들은 인생의 의미가\n",
      "________________________________________________________________________________\n",
      " 개인적으로 성장하고 배우는 것이라고 믿습니다. 이것은 새로운 기술을 배우고, 새로운 경험을 하며, 자신의 세계관\n",
      "________________________________________________________________________________\n",
      "을 확장하는 것을 포함할 수 있습니다.\n",
      "* **다른 사람을 돕기:** 다른 사람들은 인생의 의미가 다른 사람들을 돕는 것이라고 믿습니다. 이것은 자원봉사, 자선 기부 또는 단순히 친구와 가족을 도와주\n",
      "________________________________________________________________________________\n",
      "는 것을 포함할 수 있습니다.\n",
      "* **세상을 변화시키기:** 다른 사람들은 인생의 의미가 세상을 변화시키는 것이라고 믿습니다. 이것은 환경을 보호하고, 불의와 싸우며, 평화를 증진하는 것을 포함할 수 있습니다.\n",
      "* **행복을 찾기:** 일부 사람들은 인생의 의미가 행복을 찾는 것이라고 믿습니다. 이것은 인생의 단순한 것들에 감사하고, 사랑하고, 사랑받으며, 목표를 이루는 것을\n",
      "________________________________________________________________________________\n",
      " 포함할 수 있습니다.\n",
      "* **유산 만들기:** 다른 사람들은 인생의 의미가 유산을 만드는 것이라고 믿습니다. 이것은 자녀를 둔 것, 예술 작품을 만드는 것, 또는 커뮤니티에 기여하는 것을 포함할 수 있습니다.\n",
      "\n",
      "궁극적으로 인생의 의미는 각 개인이 결정하는 것입니다. 옳고 그른 대답은 없으며 모든 사람이 자신에게 가장 적합한 것을 찾아야 합니다.\n",
      "\n",
      "인생의 의미를 찾는 데 도움이 되는 몇 가지 방법은 다음과 같습니다.\n",
      "\n",
      "* **자기 성찰을 연습하십시오.** 당신은 시간을 내어 당신의 가치관, 목표 및 꿈을 생각해 보아야 합니다. 무엇이 당신에게 중요하고 당신은 무엇을 성취하고 싶습니까?\n",
      "* **다른 사람들과 이야기하십시오.** 친구, 가족, 멘토와 당신의 인생의 의미에 대해 이야기하십시오. 그들의 관점은 당신이 새로운 관점을 얻는 데 도움이 될 수 있습니다.\n",
      "* **새로운 경험을 하십시오.** 새로운\n",
      "________________________________________________________________________________\n",
      " 문화, 새로운 사람, 새로운 활동에 노출되면 당신의 세계관을 확장하고 인생에 대한 새로운 감사를 얻을 수 있습니다.\n",
      "* **자원봉사를 하십시오.** 다른 사람들을 도와주는 것은 당신에게 목적 의식을 줄 수 있고 당신이 세상에 변화를 만들고 있다는 것을 느낄 수 있습니다.\n",
      "* **목표를 설정하십시오.** 목표는 당신에게 노력할 무언가를 주고 당신이 성취감을 느낄 수 있게 해줍니다.\n",
      "* **감사하십시오.** 당신의 인생에서 좋은 것들에 감사하는 것은 당신이 더 행복하고 만족스러운 삶을 사는 데 도움이 될 수 있습니다.\n",
      "________________________________________________________________________________\n"
     ]
    }
   ],
   "source": [
    "for chunk in response:\n",
    "  print(chunk.text)\n",
    "  print(\"_\"*80)"
   ]
  },
  {
   "cell_type": "markdown",
   "id": "7c72dc9a-9ffc-4602-bb32-13f6d2874f7c",
   "metadata": {
    "id": "zsIZmCYVTDHD"
   },
   "source": [
    "## Chat conversations\n",
    "\n",
    "Gemini를 사용하면 여러 차례에 걸쳐 자유로운 형식의 대화를 할 수 있습니다. ChatSession 클래스는 대화의 상태를 관리하여 프로세스를 간소화하므로 generate_content와 달리 대화 기록을 목록으로 저장할 필요가 없습니다."
   ]
  },
  {
   "cell_type": "code",
   "execution_count": 23,
   "id": "cdb58e41-d999-4370-b97c-dfac81ddbb3d",
   "metadata": {
    "id": "y8B9Mwo-TCr2",
    "outputId": "38fa3da1-0b49-4fa7-c355-2a6273d584ec"
   },
   "outputs": [
    {
     "data": {
      "text/plain": [
       "<google.generativeai.generative_models.ChatSession at 0x105bbce10>"
      ]
     },
     "execution_count": 23,
     "metadata": {},
     "output_type": "execute_result"
    }
   ],
   "source": [
    "model = genai.GenerativeModel('gemini-pro')\n",
    "chat = model.start_chat(history=[])\n",
    "chat"
   ]
  },
  {
   "cell_type": "markdown",
   "id": "980b0913-fa6b-44e6-b9ec-1631b333195c",
   "metadata": {
    "id": "88Il02N-km9j"
   },
   "source": [
    "Note: `gemini-pro-vision`은 멀티턴 챗에 최적화되진 않았습니다."
   ]
  },
  {
   "cell_type": "markdown",
   "id": "ba16eb45-3c74-4e23-a95f-ddf748155314",
   "metadata": {
    "id": "5odluV7kKbgr"
   },
   "source": [
    "`ChatSession.send_message` 메서드는 `GenerativeModel.generate_content`와 동일한 `GenerateContentResponse` 유형을 반환합니다. 또한 메시지와 응답을 채팅 기록에 추가합니다:"
   ]
  },
  {
   "cell_type": "code",
   "execution_count": 24,
   "id": "088eb8ae-5066-4f0d-bf7d-a533f7af20bb",
   "metadata": {
    "id": "b72zbOEjKRxP",
    "outputId": "587f8b4c-8f0c-41c7-a1a1-07d126765ced"
   },
   "outputs": [
    {
     "data": {
      "text/markdown": [
       "> 컴퓨터는 사람들에게 게임을 하고, 책을 읽고, 그림을 그리고, 노래를 부르는 것을 도와주는 전자 머신이다."
      ],
      "text/plain": [
       "<IPython.core.display.Markdown object>"
      ]
     },
     "execution_count": 24,
     "metadata": {},
     "output_type": "execute_result"
    }
   ],
   "source": [
    "response = chat.send_message(\"어린 아이에게 컴퓨터가 어떻게 작동하는지 한 문장으로 설명해줘\")\n",
    "to_markdown(response.text)"
   ]
  },
  {
   "cell_type": "code",
   "execution_count": 25,
   "id": "fa81d0ad-e1d7-4931-beaf-08b2ab10a142",
   "metadata": {
    "id": "5-5HS2bTOTU9",
    "outputId": "d0a95077-b459-4a88-b8ca-37d8353a2c57"
   },
   "outputs": [
    {
     "data": {
      "text/plain": [
       "[parts {\n",
       "   text: \"어린 아이에게 컴퓨터가 어떻게 작동하는지 한 문장으로 설명해줘\"\n",
       " }\n",
       " role: \"user\",\n",
       " parts {\n",
       "   text: \"컴퓨터는 사람들에게 게임을 하고, 책을 읽고, 그림을 그리고, 노래를 부르는 것을 도와주는 전자 머신이다.\"\n",
       " }\n",
       " role: \"model\"]"
      ]
     },
     "execution_count": 25,
     "metadata": {},
     "output_type": "execute_result"
    }
   ],
   "source": [
    "chat.history"
   ]
  },
  {
   "cell_type": "markdown",
   "id": "39efffd3-8c8e-4a04-baa1-186bf558d638",
   "metadata": {
    "id": "7JaiFSIvOcVb"
   },
   "source": [
    "You can keep sending messages to continue the conversation. Use the `stream=True` argument to stream the chat:"
   ]
  },
  {
   "cell_type": "code",
   "execution_count": 26,
   "id": "92513e35-15dc-424e-840f-50a1e823293e",
   "metadata": {
    "id": "Vxku7mzSObfZ",
    "outputId": "214b1054-a4d5-4067-8ded-e599b9c2d597"
   },
   "outputs": [
    {
     "name": "stdout",
     "output_type": "stream",
     "text": [
      "컴퓨터는 데이터를 입력, 처리, 저장, 출력하는 전자\n",
      "________________________________________________________________________________\n",
      " 기기입니다. 기본적으로 컴퓨터는 중앙 처리 장치(CPU), 메모리(RAM), 입력 장치(키보\n",
      "________________________________________________________________________________\n",
      "드, 마우스 등), 출력 장치(모니터, 프린터 등), 저장 장치(하드 디스크, SSD 등)로 구성되어 있습니다.\n",
      "\n",
      "컴퓨터가 작동하는 원리는 다음과 같습니다.\n",
      "\n",
      "1. 사용자가 키보드, 마우스 등의\n",
      "________________________________________________________________________________\n",
      " 입력 장치를 사용하여 데이터를 입력합니다.\n",
      "2. 입력된 데이터는 메모리(RAM)에 저장됩니다.\n",
      "3. CPU(Central Processing Unit)가 메모리에 저장된 데이터를 읽어 들여 처리합니다.\n",
      "4. 처리된 데이터는 다시 메모리에 저장됩니다.\n",
      "5. 사용자는 모니터, 프린터 등의 출력 장치를 사용하여 처리된 데이터를 확인합니다.\n",
      "6. 처리된 데이터는 저장 장치(하드 디스크, SSD 등)에 저장됩니다.\n",
      "\n",
      "컴퓨터는 이러한 과정\n",
      "________________________________________________________________________________\n",
      "을 반복하여 다양한 작업을 수행합니다.\n",
      "\n",
      "고등학생 수준으로 컴퓨터가 어떻게 작동하는지 한 문장으로 설명하면, \"컴퓨터는 사용자가 입력한 데이터를 처리하고, 처리된 데이터를 출력하고 저장하는 전자 기기\"라고 할 수 있습니다.\n",
      "________________________________________________________________________________\n"
     ]
    }
   ],
   "source": [
    "response = chat.send_message(\"고등학생 수준으로 설명해줘\", stream=True)\n",
    "\n",
    "for chunk in response:\n",
    "  print(chunk.text)\n",
    "  print(\"_\"*80)"
   ]
  },
  {
   "cell_type": "code",
   "execution_count": 27,
   "id": "8532494f-5020-4abb-885c-7c1133c3f20c",
   "metadata": {
    "id": "WvyTmbC2d0k3",
    "outputId": "b7a07ab1-508c-4630-be88-4ed1f70db9a8"
   },
   "outputs": [
    {
     "data": {
      "text/markdown": [
       "> **user**: 어린 아이에게 컴퓨터가 어떻게 작동하는지 한 문장으로 설명해줘"
      ],
      "text/plain": [
       "<IPython.core.display.Markdown object>"
      ]
     },
     "metadata": {},
     "output_type": "display_data"
    },
    {
     "data": {
      "text/markdown": [
       "> **model**: 컴퓨터는 사람들에게 게임을 하고, 책을 읽고, 그림을 그리고, 노래를 부르는 것을 도와주는 전자 머신이다."
      ],
      "text/plain": [
       "<IPython.core.display.Markdown object>"
      ]
     },
     "metadata": {},
     "output_type": "display_data"
    },
    {
     "data": {
      "text/markdown": [
       "> **user**: 고등학생 수준으로 설명해줘"
      ],
      "text/plain": [
       "<IPython.core.display.Markdown object>"
      ]
     },
     "metadata": {},
     "output_type": "display_data"
    },
    {
     "data": {
      "text/markdown": [
       "> **model**: 컴퓨터는 데이터를 입력, 처리, 저장, 출력하는 전자 기기입니다. 기본적으로 컴퓨터는 중앙 처리 장치(CPU), 메모리(RAM), 입력 장치(키보드, 마우스 등), 출력 장치(모니터, 프린터 등), 저장 장치(하드 디스크, SSD 등)로 구성되어 있습니다.\n",
       "> \n",
       "> 컴퓨터가 작동하는 원리는 다음과 같습니다.\n",
       "> \n",
       "> 1. 사용자가 키보드, 마우스 등의 입력 장치를 사용하여 데이터를 입력합니다.\n",
       "> 2. 입력된 데이터는 메모리(RAM)에 저장됩니다.\n",
       "> 3. CPU(Central Processing Unit)가 메모리에 저장된 데이터를 읽어 들여 처리합니다.\n",
       "> 4. 처리된 데이터는 다시 메모리에 저장됩니다.\n",
       "> 5. 사용자는 모니터, 프린터 등의 출력 장치를 사용하여 처리된 데이터를 확인합니다.\n",
       "> 6. 처리된 데이터는 저장 장치(하드 디스크, SSD 등)에 저장됩니다.\n",
       "> \n",
       "> 컴퓨터는 이러한 과정을 반복하여 다양한 작업을 수행합니다.\n",
       "> \n",
       "> 고등학생 수준으로 컴퓨터가 어떻게 작동하는지 한 문장으로 설명하면, \"컴퓨터는 사용자가 입력한 데이터를 처리하고, 처리된 데이터를 출력하고 저장하는 전자 기기\"라고 할 수 있습니다."
      ],
      "text/plain": [
       "<IPython.core.display.Markdown object>"
      ]
     },
     "metadata": {},
     "output_type": "display_data"
    }
   ],
   "source": [
    "for message in chat.history:\n",
    "  display(to_markdown(f'**{message.role}**: {message.parts[0].text}'))"
   ]
  },
  {
   "cell_type": "markdown",
   "id": "3a514c88-91b8-4eb5-986c-052cd5ad3094",
   "metadata": {
    "id": "AEgVOYu0pAr4"
   },
   "source": [
    "## Count tokens"
   ]
  },
  {
   "cell_type": "code",
   "execution_count": 28,
   "id": "1ca4b3b7-7fb9-41fa-ad49-f87de888b232",
   "metadata": {
    "id": "eLjBmPCLpElk",
    "outputId": "0f0b2047-a38f-4b8c-97f5-bf61010ecd91"
   },
   "outputs": [
    {
     "data": {
      "text/plain": [
       "total_tokens: 12"
      ]
     },
     "execution_count": 28,
     "metadata": {},
     "output_type": "execute_result"
    }
   ],
   "source": [
    "model.count_tokens(\"AI가 뭔지 한문장으로 말해줘\")"
   ]
  },
  {
   "cell_type": "markdown",
   "id": "3116a27f-477c-4028-b60c-fd18cb12094e",
   "metadata": {
    "id": "oM2_U8pmpHQA"
   },
   "source": [
    "마찬가지로 '채팅 세션ChatSession'의 `token_count'도 확인할 수 있습니다."
   ]
  },
  {
   "cell_type": "code",
   "execution_count": 29,
   "id": "370ef68e-71ed-4358-9f3c-aa4fd4037973",
   "metadata": {
    "id": "i0MUU4BZpG4_",
    "outputId": "c38832b2-719a-41e8-d87b-b3b038ce78f9"
   },
   "outputs": [
    {
     "data": {
      "text/plain": [
       "total_tokens: 385"
      ]
     },
     "execution_count": 29,
     "metadata": {},
     "output_type": "execute_result"
    }
   ],
   "source": [
    "model.count_tokens(chat.history)"
   ]
  },
  {
   "cell_type": "code",
   "execution_count": null,
   "id": "3d39c4f6-986f-44fe-9792-d73da7e683ae",
   "metadata": {},
   "outputs": [],
   "source": []
  }
 ],
 "metadata": {
  "kernelspec": {
   "display_name": "Python 3 (ipykernel)",
   "language": "python",
   "name": "python3"
  },
  "language_info": {
   "codemirror_mode": {
    "name": "ipython",
    "version": 3
   },
   "file_extension": ".py",
   "mimetype": "text/x-python",
   "name": "python",
   "nbconvert_exporter": "python",
   "pygments_lexer": "ipython3",
   "version": "3.10.10"
  }
 },
 "nbformat": 4,
 "nbformat_minor": 5
}
